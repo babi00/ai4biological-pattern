{
 "cells": [
  {
   "cell_type": "markdown",
   "id": "acc17a75",
   "metadata": {},
   "source": [
    "In this file I will work on the analysis of the plant growth form in the __filtered_MIS_species.txt__ dataset.\n",
    "\n",
    "First I analyse the trait that appear more than once in the same observation, which should not happen (FOR ALL TRAITS, NOT ONLY PLANT GROWTH FORM).\n",
    "Then I focus specifically on PFG.\n",
    "\n",
    "I will explore the distribution of the different growth forms and remove the ones that are not suitable (e.g. numerical or duplicate).\n",
    "Numerical are removed with code, duplicates are identified and (IF FEASIBLE) removed manually to see which one needs to be removed. For example there is a dataset in TRY that stores twice PGF (Plant Growth Form), one for standardized and one for attributed.\n",
    "\n",
    "I started doing this in the file __popular_trait_analysis.ipynb__ but I do it in a separate file to be clearer."
   ]
  },
  {
   "cell_type": "code",
   "execution_count": 31,
   "id": "7d29715e",
   "metadata": {},
   "outputs": [],
   "source": [
    "import pandas as pd\n",
    "import matplotlib.pyplot as plt\n",
    "import seaborn as sns"
   ]
  },
  {
   "cell_type": "code",
   "execution_count": null,
   "id": "9741a452",
   "metadata": {},
   "outputs": [
    {
     "name": "stdout",
     "output_type": "stream",
     "text": [
      "There are 16 traits in total\n",
      "\n"
     ]
    }
   ],
   "source": [
    "with open('./support_files/trait_id_list.txt', 'r') as openfile:\n",
    "    trait_ids = openfile.read().splitlines()\n",
    "\n",
    "print(f\"There are {len(trait_ids)} traits in total\\n\")\n",
    "\n",
    "#mapping them to int because they were read as strings\n",
    "trait_ids = list(map(lambda x : int(x), trait_ids))"
   ]
  },
  {
   "cell_type": "code",
   "execution_count": null,
   "id": "6c45e187",
   "metadata": {},
   "outputs": [
    {
     "name": "stdout",
     "output_type": "stream",
     "text": [
      "Total: 116532\n",
      "After removing outliers: 116032\n",
      "After removing duplicates: 112000\n"
     ]
    },
    {
     "name": "stderr",
     "output_type": "stream",
     "text": [
      "C:\\Users\\guido\\AppData\\Local\\Temp\\ipykernel_4072\\3856632118.py:2: DtypeWarning: Columns (19) have mixed types. Specify dtype option on import or set low_memory=False.\n",
      "  top3_species_top_traits = pd.read_csv('top3_species_top_traits.txt', sep='\\t', encoding='latin')\n"
     ]
    },
    {
     "data": {
      "application/vnd.microsoft.datawrangler.viewer.v0+json": {
       "columns": [
        {
         "name": "index",
         "rawType": "int64",
         "type": "integer"
        },
        {
         "name": "LastName",
         "rawType": "object",
         "type": "string"
        },
        {
         "name": "FirstName",
         "rawType": "object",
         "type": "string"
        },
        {
         "name": "DatasetID",
         "rawType": "int64",
         "type": "integer"
        },
        {
         "name": "Dataset",
         "rawType": "object",
         "type": "string"
        },
        {
         "name": "SpeciesName",
         "rawType": "object",
         "type": "string"
        },
        {
         "name": "AccSpeciesID",
         "rawType": "int64",
         "type": "integer"
        },
        {
         "name": "AccSpeciesName",
         "rawType": "object",
         "type": "string"
        },
        {
         "name": "ObservationID",
         "rawType": "int64",
         "type": "integer"
        },
        {
         "name": "ObsDataID",
         "rawType": "int64",
         "type": "integer"
        },
        {
         "name": "TraitID",
         "rawType": "float64",
         "type": "float"
        },
        {
         "name": "TraitName",
         "rawType": "object",
         "type": "string"
        },
        {
         "name": "DataID",
         "rawType": "int64",
         "type": "integer"
        },
        {
         "name": "DataName",
         "rawType": "object",
         "type": "string"
        },
        {
         "name": "OriglName",
         "rawType": "object",
         "type": "string"
        },
        {
         "name": "OrigValueStr",
         "rawType": "object",
         "type": "string"
        },
        {
         "name": "OrigUnitStr",
         "rawType": "object",
         "type": "unknown"
        },
        {
         "name": "ValueKindName",
         "rawType": "object",
         "type": "unknown"
        },
        {
         "name": "OrigUncertaintyStr",
         "rawType": "float64",
         "type": "float"
        },
        {
         "name": "UncertaintyName",
         "rawType": "object",
         "type": "unknown"
        },
        {
         "name": "Replicates",
         "rawType": "object",
         "type": "unknown"
        },
        {
         "name": "StdValue",
         "rawType": "float64",
         "type": "float"
        },
        {
         "name": "UnitName",
         "rawType": "object",
         "type": "unknown"
        },
        {
         "name": "RelUncertaintyPercent",
         "rawType": "float64",
         "type": "float"
        },
        {
         "name": "OrigObsDataID",
         "rawType": "float64",
         "type": "float"
        },
        {
         "name": "ErrorRisk",
         "rawType": "float64",
         "type": "float"
        },
        {
         "name": "Reference",
         "rawType": "object",
         "type": "string"
        },
        {
         "name": "Comment",
         "rawType": "object",
         "type": "string"
        },
        {
         "name": "StdValueStr",
         "rawType": "object",
         "type": "unknown"
        },
        {
         "name": "Unnamed: 28",
         "rawType": "float64",
         "type": "float"
        }
       ],
       "conversionMethod": "pd.DataFrame",
       "ref": "67b83b8f-2207-458b-add1-9c3d89966f5f",
       "rows": [
        [
         "9",
         "Craine",
         "Joseph",
         "10",
         "Roots Of the World (ROW) Database",
         "Dactylis glomerata",
         "16700",
         "Dactylis glomerata",
         "19150",
         "482854",
         "13.0",
         "Leaf carbon (C) content per leaf dry mass",
         "14",
         "Leaf carbon content per dry mass",
         "Leaf %C",
         "45.85",
         "%",
         "Single",
         null,
         null,
         null,
         "458.5",
         "mg/g",
         null,
         null,
         "0.776812",
         "Craine, J. M., W. G. Lee, W. J. Bond, R. J. Williams, and L. C. Johnson. 2005. Environmental constraints on a global relationship among leaf and root traits of grasses. Ecology 86:12-19.",
         "C concentration",
         null,
         null
        ],
        [
         "15",
         "Craine",
         "Joseph",
         "10",
         "Roots Of the World (ROW) Database",
         "Dactylis glomerata",
         "16700",
         "Dactylis glomerata",
         "19194",
         "483824",
         "13.0",
         "Leaf carbon (C) content per leaf dry mass",
         "14",
         "Leaf carbon content per dry mass",
         "Leaf %C",
         "41.62",
         "%",
         "Single",
         null,
         null,
         null,
         "416.2",
         "mg/g",
         null,
         null,
         "1.26795",
         "Craine, J. M., W. G. Lee, W. J. Bond, R. J. Williams, and L. C. Johnson. 2005. Environmental constraints on a global relationship among leaf and root traits of grasses. Ecology 86:12-19.",
         "C concentration",
         null,
         null
        ],
        [
         "20",
         "Craine",
         "Joseph",
         "10",
         "Roots Of the World (ROW) Database",
         "Dactylis glomerata",
         "16700",
         "Dactylis glomerata",
         "19216",
         "484308",
         "14.0",
         "Leaf nitrogen (N) content per leaf dry mass",
         "15",
         "Leaf nitrogen content per dry mass (Nmass)",
         "Leaf %N",
         "2.78",
         "%",
         "Single",
         null,
         null,
         null,
         "27.8",
         "mg/g",
         null,
         null,
         "1.17714",
         "Craine, J. M., W. G. Lee, W. J. Bond, R. J. Williams, and L. C. Johnson. 2005. Environmental constraints on a global relationship among leaf and root traits of grasses. Ecology 86:12-19.",
         "unadjusted N concentration",
         null,
         null
        ],
        [
         "28",
         "Craine",
         "Joseph",
         "130",
         "Global 15N Database",
         "Dactylis glomerata",
         "16700",
         "Dactylis glomerata",
         "19514",
         "491120",
         "42.0",
         "Plant growth form",
         "47",
         "Plant growth form",
         "Type",
         "Herbaceous Monocot",
         null,
         null,
         null,
         null,
         null,
         null,
         null,
         null,
         null,
         null,
         "Craine, J. M., A. J. Elmore, M. P. M. Aidar, M. Bustamante, T. E. Dawson, E. A. Hobbie, A. Kahmen, M. C. Mack, K. K. McLauchlan, A. Michelsen, G. B. Nardoto, L. H. Pardo, J. Penuelas, P. B. Reich, E. A. G. Schuur, W. D. Stock, P. H. Templer, R. A. Virginia, J. M. Welker, and I. J. Wright. 2009. Global patterns of foliar nitrogen isotopes and their relationships with climate, mycorrhizal fungi, foliar nutrient concentrations, and nitrogen availability. New Phytologist 183:980-992.",
         "Growth form",
         null,
         null
        ],
        [
         "29",
         "Craine",
         "Joseph",
         "130",
         "Global 15N Database",
         "Dactylis glomerata",
         "16700",
         "Dactylis glomerata",
         "19514",
         "491121",
         "14.0",
         "Leaf nitrogen (N) content per leaf dry mass",
         "15",
         "Leaf nitrogen content per dry mass (Nmass)",
         "Leaf %N",
         "1.591335",
         "%",
         "Single",
         null,
         null,
         null,
         "15.91335",
         "mg/g",
         null,
         null,
         "2.15244",
         "Craine, J. M., A. J. Elmore, M. P. M. Aidar, M. Bustamante, T. E. Dawson, E. A. Hobbie, A. Kahmen, M. C. Mack, K. K. McLauchlan, A. Michelsen, G. B. Nardoto, L. H. Pardo, J. Penuelas, P. B. Reich, E. A. G. Schuur, W. D. Stock, P. H. Templer, R. A. Virginia, J. M. Welker, and I. J. Wright. 2009. Global patterns of foliar nitrogen isotopes and their relationships with climate, mycorrhizal fungi, foliar nutrient concentrations, and nitrogen availability. New Phytologist 183:980-992.",
         "% dry mass",
         null,
         null
        ]
       ],
       "shape": {
        "columns": 29,
        "rows": 5
       }
      },
      "text/html": [
       "<div>\n",
       "<style scoped>\n",
       "    .dataframe tbody tr th:only-of-type {\n",
       "        vertical-align: middle;\n",
       "    }\n",
       "\n",
       "    .dataframe tbody tr th {\n",
       "        vertical-align: top;\n",
       "    }\n",
       "\n",
       "    .dataframe thead th {\n",
       "        text-align: right;\n",
       "    }\n",
       "</style>\n",
       "<table border=\"1\" class=\"dataframe\">\n",
       "  <thead>\n",
       "    <tr style=\"text-align: right;\">\n",
       "      <th></th>\n",
       "      <th>LastName</th>\n",
       "      <th>FirstName</th>\n",
       "      <th>DatasetID</th>\n",
       "      <th>Dataset</th>\n",
       "      <th>SpeciesName</th>\n",
       "      <th>AccSpeciesID</th>\n",
       "      <th>AccSpeciesName</th>\n",
       "      <th>ObservationID</th>\n",
       "      <th>ObsDataID</th>\n",
       "      <th>TraitID</th>\n",
       "      <th>...</th>\n",
       "      <th>Replicates</th>\n",
       "      <th>StdValue</th>\n",
       "      <th>UnitName</th>\n",
       "      <th>RelUncertaintyPercent</th>\n",
       "      <th>OrigObsDataID</th>\n",
       "      <th>ErrorRisk</th>\n",
       "      <th>Reference</th>\n",
       "      <th>Comment</th>\n",
       "      <th>StdValueStr</th>\n",
       "      <th>Unnamed: 28</th>\n",
       "    </tr>\n",
       "  </thead>\n",
       "  <tbody>\n",
       "    <tr>\n",
       "      <th>9</th>\n",
       "      <td>Craine</td>\n",
       "      <td>Joseph</td>\n",
       "      <td>10</td>\n",
       "      <td>Roots Of the World (ROW) Database</td>\n",
       "      <td>Dactylis glomerata</td>\n",
       "      <td>16700</td>\n",
       "      <td>Dactylis glomerata</td>\n",
       "      <td>19150</td>\n",
       "      <td>482854</td>\n",
       "      <td>13.0</td>\n",
       "      <td>...</td>\n",
       "      <td>NaN</td>\n",
       "      <td>458.50000</td>\n",
       "      <td>mg/g</td>\n",
       "      <td>NaN</td>\n",
       "      <td>NaN</td>\n",
       "      <td>0.776812</td>\n",
       "      <td>Craine, J. M., W. G. Lee, W. J. Bond, R. J. Wi...</td>\n",
       "      <td>C concentration</td>\n",
       "      <td>NaN</td>\n",
       "      <td>NaN</td>\n",
       "    </tr>\n",
       "    <tr>\n",
       "      <th>15</th>\n",
       "      <td>Craine</td>\n",
       "      <td>Joseph</td>\n",
       "      <td>10</td>\n",
       "      <td>Roots Of the World (ROW) Database</td>\n",
       "      <td>Dactylis glomerata</td>\n",
       "      <td>16700</td>\n",
       "      <td>Dactylis glomerata</td>\n",
       "      <td>19194</td>\n",
       "      <td>483824</td>\n",
       "      <td>13.0</td>\n",
       "      <td>...</td>\n",
       "      <td>NaN</td>\n",
       "      <td>416.20000</td>\n",
       "      <td>mg/g</td>\n",
       "      <td>NaN</td>\n",
       "      <td>NaN</td>\n",
       "      <td>1.267950</td>\n",
       "      <td>Craine, J. M., W. G. Lee, W. J. Bond, R. J. Wi...</td>\n",
       "      <td>C concentration</td>\n",
       "      <td>NaN</td>\n",
       "      <td>NaN</td>\n",
       "    </tr>\n",
       "    <tr>\n",
       "      <th>20</th>\n",
       "      <td>Craine</td>\n",
       "      <td>Joseph</td>\n",
       "      <td>10</td>\n",
       "      <td>Roots Of the World (ROW) Database</td>\n",
       "      <td>Dactylis glomerata</td>\n",
       "      <td>16700</td>\n",
       "      <td>Dactylis glomerata</td>\n",
       "      <td>19216</td>\n",
       "      <td>484308</td>\n",
       "      <td>14.0</td>\n",
       "      <td>...</td>\n",
       "      <td>NaN</td>\n",
       "      <td>27.80000</td>\n",
       "      <td>mg/g</td>\n",
       "      <td>NaN</td>\n",
       "      <td>NaN</td>\n",
       "      <td>1.177140</td>\n",
       "      <td>Craine, J. M., W. G. Lee, W. J. Bond, R. J. Wi...</td>\n",
       "      <td>unadjusted N concentration</td>\n",
       "      <td>NaN</td>\n",
       "      <td>NaN</td>\n",
       "    </tr>\n",
       "    <tr>\n",
       "      <th>28</th>\n",
       "      <td>Craine</td>\n",
       "      <td>Joseph</td>\n",
       "      <td>130</td>\n",
       "      <td>Global 15N Database</td>\n",
       "      <td>Dactylis glomerata</td>\n",
       "      <td>16700</td>\n",
       "      <td>Dactylis glomerata</td>\n",
       "      <td>19514</td>\n",
       "      <td>491120</td>\n",
       "      <td>42.0</td>\n",
       "      <td>...</td>\n",
       "      <td>NaN</td>\n",
       "      <td>NaN</td>\n",
       "      <td>NaN</td>\n",
       "      <td>NaN</td>\n",
       "      <td>NaN</td>\n",
       "      <td>NaN</td>\n",
       "      <td>Craine, J. M., A. J. Elmore, M. P. M. Aidar, M...</td>\n",
       "      <td>Growth form</td>\n",
       "      <td>NaN</td>\n",
       "      <td>NaN</td>\n",
       "    </tr>\n",
       "    <tr>\n",
       "      <th>29</th>\n",
       "      <td>Craine</td>\n",
       "      <td>Joseph</td>\n",
       "      <td>130</td>\n",
       "      <td>Global 15N Database</td>\n",
       "      <td>Dactylis glomerata</td>\n",
       "      <td>16700</td>\n",
       "      <td>Dactylis glomerata</td>\n",
       "      <td>19514</td>\n",
       "      <td>491121</td>\n",
       "      <td>14.0</td>\n",
       "      <td>...</td>\n",
       "      <td>NaN</td>\n",
       "      <td>15.91335</td>\n",
       "      <td>mg/g</td>\n",
       "      <td>NaN</td>\n",
       "      <td>NaN</td>\n",
       "      <td>2.152440</td>\n",
       "      <td>Craine, J. M., A. J. Elmore, M. P. M. Aidar, M...</td>\n",
       "      <td>% dry mass</td>\n",
       "      <td>NaN</td>\n",
       "      <td>NaN</td>\n",
       "    </tr>\n",
       "  </tbody>\n",
       "</table>\n",
       "<p>5 rows × 29 columns</p>\n",
       "</div>"
      ],
      "text/plain": [
       "   LastName FirstName  DatasetID                            Dataset  \\\n",
       "9    Craine    Joseph         10  Roots Of the World (ROW) Database   \n",
       "15   Craine    Joseph         10  Roots Of the World (ROW) Database   \n",
       "20   Craine    Joseph         10  Roots Of the World (ROW) Database   \n",
       "28   Craine    Joseph        130                Global 15N Database   \n",
       "29   Craine    Joseph        130                Global 15N Database   \n",
       "\n",
       "           SpeciesName  AccSpeciesID      AccSpeciesName  ObservationID  \\\n",
       "9   Dactylis glomerata         16700  Dactylis glomerata          19150   \n",
       "15  Dactylis glomerata         16700  Dactylis glomerata          19194   \n",
       "20  Dactylis glomerata         16700  Dactylis glomerata          19216   \n",
       "28  Dactylis glomerata         16700  Dactylis glomerata          19514   \n",
       "29  Dactylis glomerata         16700  Dactylis glomerata          19514   \n",
       "\n",
       "    ObsDataID  TraitID  ... Replicates   StdValue UnitName  \\\n",
       "9      482854     13.0  ...        NaN  458.50000     mg/g   \n",
       "15     483824     13.0  ...        NaN  416.20000     mg/g   \n",
       "20     484308     14.0  ...        NaN   27.80000     mg/g   \n",
       "28     491120     42.0  ...        NaN        NaN      NaN   \n",
       "29     491121     14.0  ...        NaN   15.91335     mg/g   \n",
       "\n",
       "   RelUncertaintyPercent OrigObsDataID ErrorRisk  \\\n",
       "9                    NaN           NaN  0.776812   \n",
       "15                   NaN           NaN  1.267950   \n",
       "20                   NaN           NaN  1.177140   \n",
       "28                   NaN           NaN       NaN   \n",
       "29                   NaN           NaN  2.152440   \n",
       "\n",
       "                                            Reference  \\\n",
       "9   Craine, J. M., W. G. Lee, W. J. Bond, R. J. Wi...   \n",
       "15  Craine, J. M., W. G. Lee, W. J. Bond, R. J. Wi...   \n",
       "20  Craine, J. M., W. G. Lee, W. J. Bond, R. J. Wi...   \n",
       "28  Craine, J. M., A. J. Elmore, M. P. M. Aidar, M...   \n",
       "29  Craine, J. M., A. J. Elmore, M. P. M. Aidar, M...   \n",
       "\n",
       "                       Comment StdValueStr Unnamed: 28  \n",
       "9              C concentration         NaN         NaN  \n",
       "15             C concentration         NaN         NaN  \n",
       "20  unadjusted N concentration         NaN         NaN  \n",
       "28                 Growth form         NaN         NaN  \n",
       "29                  % dry mass         NaN         NaN  \n",
       "\n",
       "[5 rows x 29 columns]"
      ]
     },
     "execution_count": 14,
     "metadata": {},
     "output_type": "execute_result"
    }
   ],
   "source": [
    "#specifing encoding='latin' is necessary or you get an error\n",
    "top3_species_top_traits = pd.read_csv('./support_files/top3_species_top_traits.txt', sep='\\t', encoding='latin')\n",
    "\n",
    "print(\"Total:\", len(top3_species_top_traits))\n",
    "\n",
    "#clear outliers: refer to the documentation obtained with the data request to better understand\n",
    "#only keeping the measurement that have a value included in a range of 4 standard deviations. The rest are likely outliers or wrong.\n",
    "#also keep the rows with no value in ErrorRisk, because that is metadata\n",
    "\n",
    "#500 measurements dropped.\n",
    "top3_species_top_traits = top3_species_top_traits[(top3_species_top_traits['ErrorRisk'] < 4.0) | (top3_species_top_traits['ErrorRisk'].isnull())]\n",
    "\n",
    "print(\"After removing outliers:\", len(top3_species_top_traits))\n",
    "\n",
    "#now remove the duplicates. Again, refer to the documentation for more information\n",
    "#4032 observations removed\n",
    "top3_species_top_traits = top3_species_top_traits[top3_species_top_traits['OrigObsDataID'].isnull()]\n",
    "\n",
    "#Note that duplicates are only referred to trait measurements.\n",
    "#Therefore removing rows marked as \"duplicates\" might leave in the dataframe rows related to the single observation (eg. location)\n",
    "#For these values, TraitName is not present. The information is located in the \"DataName\" column.\n",
    "#If exploration is necessary, refer to the \"ObservationID\" of the original dataframe\n",
    "\n",
    "print(\"After removing duplicates:\", len(top3_species_top_traits))\n",
    "\n",
    "#Related to what I mentioned above, now I only keep data related to the trait measurements. No metadata.\n",
    "trait_measurements = top3_species_top_traits[top3_species_top_traits['TraitID'].isin(trait_ids)]\n",
    "\n",
    "trait_measurements[:5]"
   ]
  },
  {
   "cell_type": "code",
   "execution_count": 15,
   "id": "4dce0a7d",
   "metadata": {},
   "outputs": [
    {
     "data": {
      "application/vnd.microsoft.datawrangler.viewer.v0+json": {
       "columns": [
        {
         "name": "index",
         "rawType": "int64",
         "type": "integer"
        },
        {
         "name": "DatasetID",
         "rawType": "int64",
         "type": "integer"
        },
        {
         "name": "AccSpeciesName",
         "rawType": "object",
         "type": "string"
        },
        {
         "name": "ObservationID",
         "rawType": "int64",
         "type": "integer"
        },
        {
         "name": "TraitID",
         "rawType": "float64",
         "type": "float"
        },
        {
         "name": "TraitName",
         "rawType": "object",
         "type": "string"
        },
        {
         "name": "OrigValueStr",
         "rawType": "object",
         "type": "string"
        },
        {
         "name": "StdValue",
         "rawType": "float64",
         "type": "float"
        },
        {
         "name": "UnitName",
         "rawType": "object",
         "type": "unknown"
        }
       ],
       "conversionMethod": "pd.DataFrame",
       "ref": "15993a73-288f-49fe-9fce-f9a2d58e98a5",
       "rows": [
        [
         "9",
         "10",
         "Dactylis glomerata",
         "19150",
         "13.0",
         "Leaf carbon (C) content per leaf dry mass",
         "45.85",
         "458.5",
         "mg/g"
        ],
        [
         "15",
         "10",
         "Dactylis glomerata",
         "19194",
         "13.0",
         "Leaf carbon (C) content per leaf dry mass",
         "41.62",
         "416.2",
         "mg/g"
        ],
        [
         "20",
         "10",
         "Dactylis glomerata",
         "19216",
         "14.0",
         "Leaf nitrogen (N) content per leaf dry mass",
         "2.78",
         "27.8",
         "mg/g"
        ],
        [
         "28",
         "130",
         "Dactylis glomerata",
         "19514",
         "42.0",
         "Plant growth form",
         "Herbaceous Monocot",
         null,
         null
        ],
        [
         "29",
         "130",
         "Dactylis glomerata",
         "19514",
         "14.0",
         "Leaf nitrogen (N) content per leaf dry mass",
         "1.591335",
         "15.91335",
         "mg/g"
        ]
       ],
       "shape": {
        "columns": 8,
        "rows": 5
       }
      },
      "text/html": [
       "<div>\n",
       "<style scoped>\n",
       "    .dataframe tbody tr th:only-of-type {\n",
       "        vertical-align: middle;\n",
       "    }\n",
       "\n",
       "    .dataframe tbody tr th {\n",
       "        vertical-align: top;\n",
       "    }\n",
       "\n",
       "    .dataframe thead th {\n",
       "        text-align: right;\n",
       "    }\n",
       "</style>\n",
       "<table border=\"1\" class=\"dataframe\">\n",
       "  <thead>\n",
       "    <tr style=\"text-align: right;\">\n",
       "      <th></th>\n",
       "      <th>DatasetID</th>\n",
       "      <th>AccSpeciesName</th>\n",
       "      <th>ObservationID</th>\n",
       "      <th>TraitID</th>\n",
       "      <th>TraitName</th>\n",
       "      <th>OrigValueStr</th>\n",
       "      <th>StdValue</th>\n",
       "      <th>UnitName</th>\n",
       "    </tr>\n",
       "  </thead>\n",
       "  <tbody>\n",
       "    <tr>\n",
       "      <th>9</th>\n",
       "      <td>10</td>\n",
       "      <td>Dactylis glomerata</td>\n",
       "      <td>19150</td>\n",
       "      <td>13.0</td>\n",
       "      <td>Leaf carbon (C) content per leaf dry mass</td>\n",
       "      <td>45.85</td>\n",
       "      <td>458.50000</td>\n",
       "      <td>mg/g</td>\n",
       "    </tr>\n",
       "    <tr>\n",
       "      <th>15</th>\n",
       "      <td>10</td>\n",
       "      <td>Dactylis glomerata</td>\n",
       "      <td>19194</td>\n",
       "      <td>13.0</td>\n",
       "      <td>Leaf carbon (C) content per leaf dry mass</td>\n",
       "      <td>41.62</td>\n",
       "      <td>416.20000</td>\n",
       "      <td>mg/g</td>\n",
       "    </tr>\n",
       "    <tr>\n",
       "      <th>20</th>\n",
       "      <td>10</td>\n",
       "      <td>Dactylis glomerata</td>\n",
       "      <td>19216</td>\n",
       "      <td>14.0</td>\n",
       "      <td>Leaf nitrogen (N) content per leaf dry mass</td>\n",
       "      <td>2.78</td>\n",
       "      <td>27.80000</td>\n",
       "      <td>mg/g</td>\n",
       "    </tr>\n",
       "    <tr>\n",
       "      <th>28</th>\n",
       "      <td>130</td>\n",
       "      <td>Dactylis glomerata</td>\n",
       "      <td>19514</td>\n",
       "      <td>42.0</td>\n",
       "      <td>Plant growth form</td>\n",
       "      <td>Herbaceous Monocot</td>\n",
       "      <td>NaN</td>\n",
       "      <td>NaN</td>\n",
       "    </tr>\n",
       "    <tr>\n",
       "      <th>29</th>\n",
       "      <td>130</td>\n",
       "      <td>Dactylis glomerata</td>\n",
       "      <td>19514</td>\n",
       "      <td>14.0</td>\n",
       "      <td>Leaf nitrogen (N) content per leaf dry mass</td>\n",
       "      <td>1.591335</td>\n",
       "      <td>15.91335</td>\n",
       "      <td>mg/g</td>\n",
       "    </tr>\n",
       "  </tbody>\n",
       "</table>\n",
       "</div>"
      ],
      "text/plain": [
       "    DatasetID      AccSpeciesName  ObservationID  TraitID  \\\n",
       "9          10  Dactylis glomerata          19150     13.0   \n",
       "15         10  Dactylis glomerata          19194     13.0   \n",
       "20         10  Dactylis glomerata          19216     14.0   \n",
       "28        130  Dactylis glomerata          19514     42.0   \n",
       "29        130  Dactylis glomerata          19514     14.0   \n",
       "\n",
       "                                      TraitName        OrigValueStr  \\\n",
       "9     Leaf carbon (C) content per leaf dry mass               45.85   \n",
       "15    Leaf carbon (C) content per leaf dry mass               41.62   \n",
       "20  Leaf nitrogen (N) content per leaf dry mass                2.78   \n",
       "28                            Plant growth form  Herbaceous Monocot   \n",
       "29  Leaf nitrogen (N) content per leaf dry mass            1.591335   \n",
       "\n",
       "     StdValue UnitName  \n",
       "9   458.50000     mg/g  \n",
       "15  416.20000     mg/g  \n",
       "20   27.80000     mg/g  \n",
       "28        NaN      NaN  \n",
       "29   15.91335     mg/g  "
      ]
     },
     "execution_count": 15,
     "metadata": {},
     "output_type": "execute_result"
    }
   ],
   "source": [
    "trait_measurements_1 = trait_measurements[['DatasetID', 'AccSpeciesName', 'ObservationID', 'TraitID', 'TraitName', 'OrigValueStr', 'StdValue', 'UnitName']]\n",
    "\n",
    "trait_measurements_1[:5]\n",
    "#I keep both Original value and Standardized value because for non-numerical traits there is no standardized value.\n"
   ]
  },
  {
   "cell_type": "code",
   "execution_count": null,
   "id": "82ffc307",
   "metadata": {},
   "outputs": [
    {
     "data": {
      "application/vnd.microsoft.datawrangler.viewer.v0+json": {
       "columns": [
        {
         "name": "index",
         "rawType": "int64",
         "type": "integer"
        },
        {
         "name": "ObservationID",
         "rawType": "int64",
         "type": "integer"
        },
        {
         "name": "TraitID",
         "rawType": "float64",
         "type": "float"
        },
        {
         "name": "count",
         "rawType": "int64",
         "type": "integer"
        }
       ],
       "conversionMethod": "pd.DataFrame",
       "ref": "e455cdb9-5725-4739-9b67-7cc3d8beaac0",
       "rows": [
        [
         "0",
         "19150",
         "13.0",
         "1"
        ],
        [
         "1",
         "19194",
         "13.0",
         "1"
        ],
        [
         "2",
         "19216",
         "14.0",
         "1"
        ],
        [
         "3",
         "19514",
         "14.0",
         "1"
        ],
        [
         "4",
         "19514",
         "42.0",
         "1"
        ]
       ],
       "shape": {
        "columns": 3,
        "rows": 5
       }
      },
      "text/html": [
       "<div>\n",
       "<style scoped>\n",
       "    .dataframe tbody tr th:only-of-type {\n",
       "        vertical-align: middle;\n",
       "    }\n",
       "\n",
       "    .dataframe tbody tr th {\n",
       "        vertical-align: top;\n",
       "    }\n",
       "\n",
       "    .dataframe thead th {\n",
       "        text-align: right;\n",
       "    }\n",
       "</style>\n",
       "<table border=\"1\" class=\"dataframe\">\n",
       "  <thead>\n",
       "    <tr style=\"text-align: right;\">\n",
       "      <th></th>\n",
       "      <th>ObservationID</th>\n",
       "      <th>TraitID</th>\n",
       "      <th>count</th>\n",
       "    </tr>\n",
       "  </thead>\n",
       "  <tbody>\n",
       "    <tr>\n",
       "      <th>0</th>\n",
       "      <td>19150</td>\n",
       "      <td>13.0</td>\n",
       "      <td>1</td>\n",
       "    </tr>\n",
       "    <tr>\n",
       "      <th>1</th>\n",
       "      <td>19194</td>\n",
       "      <td>13.0</td>\n",
       "      <td>1</td>\n",
       "    </tr>\n",
       "    <tr>\n",
       "      <th>2</th>\n",
       "      <td>19216</td>\n",
       "      <td>14.0</td>\n",
       "      <td>1</td>\n",
       "    </tr>\n",
       "    <tr>\n",
       "      <th>3</th>\n",
       "      <td>19514</td>\n",
       "      <td>14.0</td>\n",
       "      <td>1</td>\n",
       "    </tr>\n",
       "    <tr>\n",
       "      <th>4</th>\n",
       "      <td>19514</td>\n",
       "      <td>42.0</td>\n",
       "      <td>1</td>\n",
       "    </tr>\n",
       "  </tbody>\n",
       "</table>\n",
       "</div>"
      ],
      "text/plain": [
       "   ObservationID  TraitID  count\n",
       "0          19150     13.0      1\n",
       "1          19194     13.0      1\n",
       "2          19216     14.0      1\n",
       "3          19514     14.0      1\n",
       "4          19514     42.0      1"
      ]
     },
     "execution_count": 12,
     "metadata": {},
     "output_type": "execute_result"
    }
   ],
   "source": [
    "# Group by ObservationID and TraitID, and count how many times each combination appears (size). \n",
    "#Then turn the result back into a dataframe instead of a series with reset_index with a new column named \"count\" that stores\n",
    "#the number of times each combination (obs, trait) appears\n",
    "duplicate_traits = trait_measurements_1.groupby(['ObservationID', 'TraitID']).size().reset_index(name='count')\n",
    "\n",
    "duplicate_traits[:5]"
   ]
  },
  {
   "cell_type": "code",
   "execution_count": null,
   "id": "14e3e25b",
   "metadata": {},
   "outputs": [
    {
     "data": {
      "application/vnd.microsoft.datawrangler.viewer.v0+json": {
       "columns": [
        {
         "name": "index",
         "rawType": "int64",
         "type": "integer"
        },
        {
         "name": "ObservationID",
         "rawType": "int64",
         "type": "integer"
        },
        {
         "name": "TraitID",
         "rawType": "float64",
         "type": "float"
        },
        {
         "name": "count",
         "rawType": "int64",
         "type": "integer"
        }
       ],
       "conversionMethod": "pd.DataFrame",
       "ref": "13eb8094-b63b-4de5-b4ea-5b6808e6b6f5",
       "rows": [
        [
         "747",
         "930359",
         "3106.0",
         "3"
        ],
        [
         "753",
         "930366",
         "3106.0",
         "3"
        ],
        [
         "759",
         "930379",
         "3106.0",
         "3"
        ],
        [
         "764",
         "940949",
         "403.0",
         "2"
        ],
        [
         "770",
         "940968",
         "403.0",
         "2"
        ],
        [
         "776",
         "941011",
         "403.0",
         "2"
        ],
        [
         "782",
         "941039",
         "403.0",
         "2"
        ],
        [
         "788",
         "941041",
         "403.0",
         "2"
        ],
        [
         "791",
         "941046",
         "403.0",
         "2"
        ],
        [
         "796",
         "941049",
         "403.0",
         "2"
        ],
        [
         "802",
         "941051",
         "403.0",
         "2"
        ],
        [
         "809",
         "941057",
         "403.0",
         "2"
        ],
        [
         "812",
         "941059",
         "403.0",
         "2"
        ],
        [
         "818",
         "941064",
         "403.0",
         "2"
        ],
        [
         "824",
         "941072",
         "403.0",
         "2"
        ],
        [
         "830",
         "941075",
         "403.0",
         "2"
        ],
        [
         "836",
         "941077",
         "403.0",
         "2"
        ],
        [
         "842",
         "941088",
         "403.0",
         "2"
        ],
        [
         "848",
         "941113",
         "403.0",
         "2"
        ],
        [
         "859",
         "941326",
         "42.0",
         "4"
        ],
        [
         "861",
         "941327",
         "42.0",
         "4"
        ],
        [
         "862",
         "941959",
         "42.0",
         "4"
        ],
        [
         "864",
         "943369",
         "42.0",
         "4"
        ],
        [
         "953",
         "1043810",
         "42.0",
         "3"
        ],
        [
         "954",
         "1043819",
         "42.0",
         "3"
        ],
        [
         "955",
         "1043867",
         "42.0",
         "3"
        ],
        [
         "956",
         "1044029",
         "42.0",
         "3"
        ],
        [
         "957",
         "1044089",
         "42.0",
         "3"
        ],
        [
         "958",
         "1044201",
         "42.0",
         "3"
        ],
        [
         "959",
         "1044525",
         "42.0",
         "3"
        ],
        [
         "960",
         "1044588",
         "42.0",
         "3"
        ],
        [
         "961",
         "1044659",
         "42.0",
         "3"
        ],
        [
         "1203",
         "1288652",
         "3117.0",
         "2"
        ],
        [
         "1208",
         "1288759",
         "3117.0",
         "2"
        ],
        [
         "1212",
         "1288784",
         "3117.0",
         "2"
        ],
        [
         "1217",
         "1288820",
         "3117.0",
         "2"
        ],
        [
         "1222",
         "1288999",
         "3117.0",
         "2"
        ],
        [
         "1226",
         "1289060",
         "55.0",
         "2"
        ],
        [
         "1227",
         "1289060",
         "3117.0",
         "2"
        ],
        [
         "1231",
         "1289198",
         "3117.0",
         "2"
        ],
        [
         "1234",
         "1289610",
         "3117.0",
         "2"
        ],
        [
         "1238",
         "1289798",
         "55.0",
         "2"
        ],
        [
         "1239",
         "1289798",
         "3117.0",
         "2"
        ],
        [
         "1242",
         "1290052",
         "3117.0",
         "2"
        ],
        [
         "1245",
         "1290077",
         "3117.0",
         "2"
        ],
        [
         "1249",
         "1290177",
         "3117.0",
         "2"
        ],
        [
         "1270",
         "1305929",
         "3106.0",
         "2"
        ],
        [
         "1275",
         "1305939",
         "3106.0",
         "2"
        ],
        [
         "1280",
         "1305961",
         "3106.0",
         "2"
        ],
        [
         "1338",
         "1306177",
         "3106.0",
         "2"
        ]
       ],
       "shape": {
        "columns": 3,
        "rows": 1571
       }
      },
      "text/html": [
       "<div>\n",
       "<style scoped>\n",
       "    .dataframe tbody tr th:only-of-type {\n",
       "        vertical-align: middle;\n",
       "    }\n",
       "\n",
       "    .dataframe tbody tr th {\n",
       "        vertical-align: top;\n",
       "    }\n",
       "\n",
       "    .dataframe thead th {\n",
       "        text-align: right;\n",
       "    }\n",
       "</style>\n",
       "<table border=\"1\" class=\"dataframe\">\n",
       "  <thead>\n",
       "    <tr style=\"text-align: right;\">\n",
       "      <th></th>\n",
       "      <th>ObservationID</th>\n",
       "      <th>TraitID</th>\n",
       "      <th>count</th>\n",
       "    </tr>\n",
       "  </thead>\n",
       "  <tbody>\n",
       "    <tr>\n",
       "      <th>747</th>\n",
       "      <td>930359</td>\n",
       "      <td>3106.0</td>\n",
       "      <td>3</td>\n",
       "    </tr>\n",
       "    <tr>\n",
       "      <th>753</th>\n",
       "      <td>930366</td>\n",
       "      <td>3106.0</td>\n",
       "      <td>3</td>\n",
       "    </tr>\n",
       "    <tr>\n",
       "      <th>759</th>\n",
       "      <td>930379</td>\n",
       "      <td>3106.0</td>\n",
       "      <td>3</td>\n",
       "    </tr>\n",
       "    <tr>\n",
       "      <th>764</th>\n",
       "      <td>940949</td>\n",
       "      <td>403.0</td>\n",
       "      <td>2</td>\n",
       "    </tr>\n",
       "    <tr>\n",
       "      <th>770</th>\n",
       "      <td>940968</td>\n",
       "      <td>403.0</td>\n",
       "      <td>2</td>\n",
       "    </tr>\n",
       "    <tr>\n",
       "      <th>...</th>\n",
       "      <td>...</td>\n",
       "      <td>...</td>\n",
       "      <td>...</td>\n",
       "    </tr>\n",
       "    <tr>\n",
       "      <th>12831</th>\n",
       "      <td>6006196</td>\n",
       "      <td>42.0</td>\n",
       "      <td>2</td>\n",
       "    </tr>\n",
       "    <tr>\n",
       "      <th>12834</th>\n",
       "      <td>6006197</td>\n",
       "      <td>42.0</td>\n",
       "      <td>2</td>\n",
       "    </tr>\n",
       "    <tr>\n",
       "      <th>12837</th>\n",
       "      <td>6006198</td>\n",
       "      <td>42.0</td>\n",
       "      <td>2</td>\n",
       "    </tr>\n",
       "    <tr>\n",
       "      <th>12840</th>\n",
       "      <td>6006199</td>\n",
       "      <td>42.0</td>\n",
       "      <td>2</td>\n",
       "    </tr>\n",
       "    <tr>\n",
       "      <th>13930</th>\n",
       "      <td>6241349</td>\n",
       "      <td>3106.0</td>\n",
       "      <td>2</td>\n",
       "    </tr>\n",
       "  </tbody>\n",
       "</table>\n",
       "<p>1571 rows × 3 columns</p>\n",
       "</div>"
      ],
      "text/plain": [
       "       ObservationID  TraitID  count\n",
       "747           930359   3106.0      3\n",
       "753           930366   3106.0      3\n",
       "759           930379   3106.0      3\n",
       "764           940949    403.0      2\n",
       "770           940968    403.0      2\n",
       "...              ...      ...    ...\n",
       "12831        6006196     42.0      2\n",
       "12834        6006197     42.0      2\n",
       "12837        6006198     42.0      2\n",
       "12840        6006199     42.0      2\n",
       "13930        6241349   3106.0      2\n",
       "\n",
       "[1571 rows x 3 columns]"
      ]
     },
     "execution_count": 8,
     "metadata": {},
     "output_type": "execute_result"
    }
   ],
   "source": [
    "#Keep only duplicates (to identify them)\n",
    "duplicates = duplicate_traits[duplicate_traits['count'] > 1]\n",
    "\n",
    "duplicates\n",
    "#1571 times there is the same trait more than once in the individual observation (should not happen)"
   ]
  },
  {
   "cell_type": "code",
   "execution_count": null,
   "id": "8a2ba0ef",
   "metadata": {},
   "outputs": [
    {
     "data": {
      "text/plain": [
       "array([ 930359,  930366,  930379, ..., 6006198, 6006199, 6241349],\n",
       "      shape=(1284,))"
      ]
     },
     "execution_count": 18,
     "metadata": {},
     "output_type": "execute_result"
    }
   ],
   "source": [
    "# Optional: Merge to see the full original rows that are duplicates\n",
    "duplicate_rows = trait_measurements.merge(duplicates, on=['ObservationID', 'TraitID'], how='inner')\n",
    "\n",
    "duplicate_rows['ObservationID'].unique()\n",
    "#1284 observation with duplicates"
   ]
  },
  {
   "cell_type": "code",
   "execution_count": null,
   "id": "f992d06b",
   "metadata": {},
   "outputs": [
    {
     "data": {
      "application/vnd.microsoft.datawrangler.viewer.v0+json": {
       "columns": [
        {
         "name": "index",
         "rawType": "int64",
         "type": "integer"
        },
        {
         "name": "ObservationID",
         "rawType": "int64",
         "type": "integer"
        },
        {
         "name": "TraitID",
         "rawType": "float64",
         "type": "float"
        },
        {
         "name": "count",
         "rawType": "int64",
         "type": "integer"
        }
       ],
       "conversionMethod": "pd.DataFrame",
       "ref": "ff10e6c6-60c4-4f64-b1f7-34d0f25af838",
       "rows": [
        [
         "859",
         "941326",
         "42.0",
         "4"
        ],
        [
         "861",
         "941327",
         "42.0",
         "4"
        ],
        [
         "862",
         "941959",
         "42.0",
         "4"
        ],
        [
         "864",
         "943369",
         "42.0",
         "4"
        ],
        [
         "953",
         "1043810",
         "42.0",
         "3"
        ],
        [
         "954",
         "1043819",
         "42.0",
         "3"
        ],
        [
         "955",
         "1043867",
         "42.0",
         "3"
        ],
        [
         "956",
         "1044029",
         "42.0",
         "3"
        ],
        [
         "957",
         "1044089",
         "42.0",
         "3"
        ],
        [
         "958",
         "1044201",
         "42.0",
         "3"
        ],
        [
         "959",
         "1044525",
         "42.0",
         "3"
        ],
        [
         "960",
         "1044588",
         "42.0",
         "3"
        ],
        [
         "961",
         "1044659",
         "42.0",
         "3"
        ],
        [
         "1480",
         "1312201",
         "42.0",
         "2"
        ],
        [
         "1482",
         "1312313",
         "42.0",
         "2"
        ],
        [
         "1483",
         "1312462",
         "42.0",
         "2"
        ],
        [
         "1484",
         "1312493",
         "42.0",
         "2"
        ],
        [
         "1485",
         "1313841",
         "42.0",
         "2"
        ],
        [
         "1486",
         "1313872",
         "42.0",
         "2"
        ],
        [
         "1963",
         "1672127",
         "42.0",
         "13"
        ],
        [
         "1967",
         "1672134",
         "42.0",
         "13"
        ],
        [
         "6616",
         "2489500",
         "42.0",
         "2"
        ],
        [
         "6620",
         "2489548",
         "42.0",
         "2"
        ],
        [
         "6624",
         "2489551",
         "42.0",
         "2"
        ],
        [
         "8671",
         "2565286",
         "42.0",
         "3"
        ],
        [
         "8672",
         "2565288",
         "42.0",
         "3"
        ],
        [
         "8673",
         "2576615",
         "42.0",
         "3"
        ],
        [
         "8674",
         "2604859",
         "42.0",
         "3"
        ],
        [
         "8675",
         "2613254",
         "42.0",
         "3"
        ],
        [
         "8676",
         "2618773",
         "42.0",
         "3"
        ],
        [
         "8677",
         "2630274",
         "42.0",
         "3"
        ],
        [
         "9378",
         "2763255",
         "42.0",
         "2"
        ],
        [
         "9380",
         "2763262",
         "42.0",
         "2"
        ],
        [
         "9383",
         "2900156",
         "42.0",
         "2"
        ],
        [
         "9384",
         "2901198",
         "42.0",
         "2"
        ],
        [
         "9385",
         "2903623",
         "42.0",
         "2"
        ],
        [
         "10390",
         "3028551",
         "42.0",
         "2"
        ],
        [
         "10393",
         "3028658",
         "42.0",
         "2"
        ],
        [
         "10396",
         "3028683",
         "42.0",
         "2"
        ],
        [
         "10398",
         "3028719",
         "42.0",
         "2"
        ],
        [
         "10402",
         "3028898",
         "42.0",
         "2"
        ],
        [
         "10406",
         "3028959",
         "42.0",
         "2"
        ],
        [
         "10410",
         "3029097",
         "42.0",
         "2"
        ],
        [
         "10413",
         "3029492",
         "42.0",
         "2"
        ],
        [
         "10416",
         "3029679",
         "42.0",
         "2"
        ],
        [
         "10419",
         "3029933",
         "42.0",
         "2"
        ],
        [
         "10420",
         "3029958",
         "42.0",
         "2"
        ],
        [
         "10422",
         "3030047",
         "42.0",
         "2"
        ],
        [
         "10425",
         "3033960",
         "42.0",
         "2"
        ],
        [
         "10428",
         "3033961",
         "42.0",
         "2"
        ]
       ],
       "shape": {
        "columns": 3,
        "rows": 578
       }
      },
      "text/html": [
       "<div>\n",
       "<style scoped>\n",
       "    .dataframe tbody tr th:only-of-type {\n",
       "        vertical-align: middle;\n",
       "    }\n",
       "\n",
       "    .dataframe tbody tr th {\n",
       "        vertical-align: top;\n",
       "    }\n",
       "\n",
       "    .dataframe thead th {\n",
       "        text-align: right;\n",
       "    }\n",
       "</style>\n",
       "<table border=\"1\" class=\"dataframe\">\n",
       "  <thead>\n",
       "    <tr style=\"text-align: right;\">\n",
       "      <th></th>\n",
       "      <th>ObservationID</th>\n",
       "      <th>TraitID</th>\n",
       "      <th>count</th>\n",
       "    </tr>\n",
       "  </thead>\n",
       "  <tbody>\n",
       "    <tr>\n",
       "      <th>859</th>\n",
       "      <td>941326</td>\n",
       "      <td>42.0</td>\n",
       "      <td>4</td>\n",
       "    </tr>\n",
       "    <tr>\n",
       "      <th>861</th>\n",
       "      <td>941327</td>\n",
       "      <td>42.0</td>\n",
       "      <td>4</td>\n",
       "    </tr>\n",
       "    <tr>\n",
       "      <th>862</th>\n",
       "      <td>941959</td>\n",
       "      <td>42.0</td>\n",
       "      <td>4</td>\n",
       "    </tr>\n",
       "    <tr>\n",
       "      <th>864</th>\n",
       "      <td>943369</td>\n",
       "      <td>42.0</td>\n",
       "      <td>4</td>\n",
       "    </tr>\n",
       "    <tr>\n",
       "      <th>953</th>\n",
       "      <td>1043810</td>\n",
       "      <td>42.0</td>\n",
       "      <td>3</td>\n",
       "    </tr>\n",
       "    <tr>\n",
       "      <th>...</th>\n",
       "      <td>...</td>\n",
       "      <td>...</td>\n",
       "      <td>...</td>\n",
       "    </tr>\n",
       "    <tr>\n",
       "      <th>12828</th>\n",
       "      <td>6006195</td>\n",
       "      <td>42.0</td>\n",
       "      <td>2</td>\n",
       "    </tr>\n",
       "    <tr>\n",
       "      <th>12831</th>\n",
       "      <td>6006196</td>\n",
       "      <td>42.0</td>\n",
       "      <td>2</td>\n",
       "    </tr>\n",
       "    <tr>\n",
       "      <th>12834</th>\n",
       "      <td>6006197</td>\n",
       "      <td>42.0</td>\n",
       "      <td>2</td>\n",
       "    </tr>\n",
       "    <tr>\n",
       "      <th>12837</th>\n",
       "      <td>6006198</td>\n",
       "      <td>42.0</td>\n",
       "      <td>2</td>\n",
       "    </tr>\n",
       "    <tr>\n",
       "      <th>12840</th>\n",
       "      <td>6006199</td>\n",
       "      <td>42.0</td>\n",
       "      <td>2</td>\n",
       "    </tr>\n",
       "  </tbody>\n",
       "</table>\n",
       "<p>578 rows × 3 columns</p>\n",
       "</div>"
      ],
      "text/plain": [
       "       ObservationID  TraitID  count\n",
       "859           941326     42.0      4\n",
       "861           941327     42.0      4\n",
       "862           941959     42.0      4\n",
       "864           943369     42.0      4\n",
       "953          1043810     42.0      3\n",
       "...              ...      ...    ...\n",
       "12828        6006195     42.0      2\n",
       "12831        6006196     42.0      2\n",
       "12834        6006197     42.0      2\n",
       "12837        6006198     42.0      2\n",
       "12840        6006199     42.0      2\n",
       "\n",
       "[578 rows x 3 columns]"
      ]
     },
     "execution_count": 20,
     "metadata": {},
     "output_type": "execute_result"
    }
   ],
   "source": [
    "duplicate_pgf = duplicates[duplicates['TraitID']==42]\n",
    "\n",
    "duplicate_pgf\n",
    "\n",
    "#578 observations have more than one Plant Growth Form measurement"
   ]
  },
  {
   "cell_type": "markdown",
   "id": "def8a442",
   "metadata": {},
   "source": [
    "Now let's see how many observation have both PLANT GROWTH FORM measurement and at least one other measurement."
   ]
  },
  {
   "cell_type": "code",
   "execution_count": 29,
   "id": "431e1383",
   "metadata": {},
   "outputs": [
    {
     "name": "stdout",
     "output_type": "stream",
     "text": [
      "Number of unique observations:  6483\n"
     ]
    }
   ],
   "source": [
    "obs_counts = trait_measurements['ObservationID'].nunique()\n",
    "print(\"Number of unique observations: \", obs_counts)\n"
   ]
  },
  {
   "cell_type": "code",
   "execution_count": 45,
   "id": "cae80879",
   "metadata": {},
   "outputs": [
    {
     "data": {
      "application/vnd.microsoft.datawrangler.viewer.v0+json": {
       "columns": [
        {
         "name": "index",
         "rawType": "int64",
         "type": "integer"
        },
        {
         "name": "ObservationID",
         "rawType": "int64",
         "type": "integer"
        },
        {
         "name": "trait_count",
         "rawType": "int64",
         "type": "integer"
        }
       ],
       "conversionMethod": "pd.DataFrame",
       "ref": "4a043dc0-8657-4f84-95a2-449ea23aa4ab",
       "rows": [
        [
         "0",
         "19150",
         "1"
        ],
        [
         "1",
         "19194",
         "1"
        ],
        [
         "2",
         "19216",
         "1"
        ],
        [
         "3",
         "19514",
         "2"
        ],
        [
         "4",
         "19519",
         "2"
        ],
        [
         "5",
         "21962",
         "2"
        ],
        [
         "6",
         "23537",
         "2"
        ],
        [
         "7",
         "23662",
         "2"
        ],
        [
         "8",
         "23672",
         "2"
        ],
        [
         "9",
         "25163",
         "2"
        ],
        [
         "10",
         "28738",
         "1"
        ],
        [
         "11",
         "28739",
         "1"
        ],
        [
         "12",
         "28740",
         "1"
        ],
        [
         "13",
         "28741",
         "1"
        ],
        [
         "14",
         "28742",
         "1"
        ],
        [
         "15",
         "29080",
         "1"
        ],
        [
         "16",
         "29081",
         "1"
        ],
        [
         "17",
         "29082",
         "1"
        ],
        [
         "18",
         "29083",
         "1"
        ],
        [
         "19",
         "29084",
         "1"
        ],
        [
         "20",
         "29085",
         "1"
        ],
        [
         "21",
         "29086",
         "1"
        ],
        [
         "22",
         "29087",
         "1"
        ],
        [
         "23",
         "29088",
         "1"
        ],
        [
         "24",
         "29089",
         "1"
        ],
        [
         "25",
         "29090",
         "1"
        ],
        [
         "26",
         "29091",
         "1"
        ],
        [
         "27",
         "29092",
         "1"
        ],
        [
         "28",
         "93134",
         "2"
        ],
        [
         "29",
         "93150",
         "2"
        ],
        [
         "30",
         "93261",
         "3"
        ],
        [
         "31",
         "93262",
         "3"
        ],
        [
         "32",
         "93263",
         "2"
        ],
        [
         "33",
         "93264",
         "3"
        ],
        [
         "34",
         "93265",
         "3"
        ],
        [
         "35",
         "93266",
         "3"
        ],
        [
         "36",
         "93267",
         "3"
        ],
        [
         "37",
         "93268",
         "3"
        ],
        [
         "38",
         "93269",
         "3"
        ],
        [
         "39",
         "93270",
         "2"
        ],
        [
         "40",
         "93447",
         "1"
        ],
        [
         "41",
         "93461",
         "1"
        ],
        [
         "42",
         "93595",
         "1"
        ],
        [
         "43",
         "93612",
         "1"
        ],
        [
         "44",
         "93746",
         "1"
        ],
        [
         "45",
         "93937",
         "1"
        ],
        [
         "46",
         "93993",
         "1"
        ],
        [
         "47",
         "93994",
         "1"
        ],
        [
         "48",
         "94039",
         "1"
        ],
        [
         "49",
         "94053",
         "1"
        ]
       ],
       "shape": {
        "columns": 2,
        "rows": 6483
       }
      },
      "text/html": [
       "<div>\n",
       "<style scoped>\n",
       "    .dataframe tbody tr th:only-of-type {\n",
       "        vertical-align: middle;\n",
       "    }\n",
       "\n",
       "    .dataframe tbody tr th {\n",
       "        vertical-align: top;\n",
       "    }\n",
       "\n",
       "    .dataframe thead th {\n",
       "        text-align: right;\n",
       "    }\n",
       "</style>\n",
       "<table border=\"1\" class=\"dataframe\">\n",
       "  <thead>\n",
       "    <tr style=\"text-align: right;\">\n",
       "      <th></th>\n",
       "      <th>ObservationID</th>\n",
       "      <th>trait_count</th>\n",
       "    </tr>\n",
       "  </thead>\n",
       "  <tbody>\n",
       "    <tr>\n",
       "      <th>0</th>\n",
       "      <td>19150</td>\n",
       "      <td>1</td>\n",
       "    </tr>\n",
       "    <tr>\n",
       "      <th>1</th>\n",
       "      <td>19194</td>\n",
       "      <td>1</td>\n",
       "    </tr>\n",
       "    <tr>\n",
       "      <th>2</th>\n",
       "      <td>19216</td>\n",
       "      <td>1</td>\n",
       "    </tr>\n",
       "    <tr>\n",
       "      <th>3</th>\n",
       "      <td>19514</td>\n",
       "      <td>2</td>\n",
       "    </tr>\n",
       "    <tr>\n",
       "      <th>4</th>\n",
       "      <td>19519</td>\n",
       "      <td>2</td>\n",
       "    </tr>\n",
       "    <tr>\n",
       "      <th>...</th>\n",
       "      <td>...</td>\n",
       "      <td>...</td>\n",
       "    </tr>\n",
       "    <tr>\n",
       "      <th>6478</th>\n",
       "      <td>6487798</td>\n",
       "      <td>4</td>\n",
       "    </tr>\n",
       "    <tr>\n",
       "      <th>6479</th>\n",
       "      <td>6487799</td>\n",
       "      <td>4</td>\n",
       "    </tr>\n",
       "    <tr>\n",
       "      <th>6480</th>\n",
       "      <td>6487800</td>\n",
       "      <td>4</td>\n",
       "    </tr>\n",
       "    <tr>\n",
       "      <th>6481</th>\n",
       "      <td>6487801</td>\n",
       "      <td>4</td>\n",
       "    </tr>\n",
       "    <tr>\n",
       "      <th>6482</th>\n",
       "      <td>6487802</td>\n",
       "      <td>4</td>\n",
       "    </tr>\n",
       "  </tbody>\n",
       "</table>\n",
       "<p>6483 rows × 2 columns</p>\n",
       "</div>"
      ],
      "text/plain": [
       "      ObservationID  trait_count\n",
       "0             19150            1\n",
       "1             19194            1\n",
       "2             19216            1\n",
       "3             19514            2\n",
       "4             19519            2\n",
       "...             ...          ...\n",
       "6478        6487798            4\n",
       "6479        6487799            4\n",
       "6480        6487800            4\n",
       "6481        6487801            4\n",
       "6482        6487802            4\n",
       "\n",
       "[6483 rows x 2 columns]"
      ]
     },
     "execution_count": 45,
     "metadata": {},
     "output_type": "execute_result"
    }
   ],
   "source": [
    "trait_counts = trait_measurements.groupby('ObservationID')['TraitID'].nunique().reset_index(name='trait_count')\n",
    "trait_counts\n",
    "\n",
    "#nunique makes it so that even if the same trait appears more than once for the same observation, it still gets counted once."
   ]
  },
  {
   "cell_type": "code",
   "execution_count": 40,
   "id": "6d4a0658",
   "metadata": {},
   "outputs": [
    {
     "data": {
      "image/png": "[encoded data removed]",
      "text/plain": [
       "<Figure size 800x500 with 1 Axes>"
      ]
     },
     "metadata": {},
     "output_type": "display_data"
    }
   ],
   "source": [
    "# Calculate frequency of each trait count\n",
    "trait_count_freq = trait_counts['trait_count'].value_counts().sort_index()\n",
    "\n",
    "sns.set_style(\"whitegrid\")  # White background with light gridlines\n",
    "\n",
    "# Create the plot\n",
    "plt.figure(figsize=(8, 5))\n",
    "ax = sns.barplot(x=trait_count_freq.index, y=trait_count_freq.values, color='skyblue')\n",
    "\n",
    "# Add value labels on top of bars\n",
    "for index, value in enumerate(trait_count_freq.values):\n",
    "    ax.text(index, value + 1, str(value), ha='center', va='bottom', fontweight='bold')\n",
    "\n",
    "# Aesthetics\n",
    "plt.title('Trait Count Frequency per Observation')\n",
    "plt.xlabel('Number of Traits Measured')\n",
    "plt.ylabel('Number of Observations')\n",
    "plt.grid(axis='y', linestyle='--', alpha=0.7)\n",
    "plt.tight_layout()\n",
    "plt.show()"
   ]
  },
  {
   "cell_type": "code",
   "execution_count": null,
   "id": "7fda8eba",
   "metadata": {},
   "outputs": [
    {
     "data": {
      "text/plain": [
       "array([  19514,   19519,   21962, ..., 6427773, 6427774, 6427883],\n",
       "      shape=(2549,))"
      ]
     },
     "execution_count": 25,
     "metadata": {},
     "output_type": "execute_result"
    }
   ],
   "source": [
    "#How many of the observations extracted before countain Plant Growth Form?\n",
    "has_trait_42 = trait_measurements[trait_measurements['TraitID'] == 42]['ObservationID'].unique()\n",
    "\n",
    "has_trait_42 "
   ]
  },
  {
   "cell_type": "code",
   "execution_count": null,
   "id": "5baf3c9b",
   "metadata": {},
   "outputs": [
    {
     "name": "stdout",
     "output_type": "stream",
     "text": [
      "Number of observations with trait 42 and at least one other trait: 1730\n"
     ]
    },
    {
     "data": {
      "application/vnd.microsoft.datawrangler.viewer.v0+json": {
       "columns": [
        {
         "name": "index",
         "rawType": "int64",
         "type": "integer"
        },
        {
         "name": "ObservationID",
         "rawType": "int64",
         "type": "integer"
        },
        {
         "name": "trait_count",
         "rawType": "int64",
         "type": "integer"
        }
       ],
       "conversionMethod": "pd.DataFrame",
       "ref": "7b1af819-5e01-436b-9b8c-61c939288d8d",
       "rows": [
        [
         "3",
         "19514",
         "2"
        ],
        [
         "4",
         "19519",
         "2"
        ],
        [
         "5",
         "21962",
         "2"
        ],
        [
         "6",
         "23537",
         "2"
        ],
        [
         "7",
         "23662",
         "2"
        ],
        [
         "8",
         "23672",
         "2"
        ],
        [
         "9",
         "25163",
         "2"
        ],
        [
         "28",
         "93134",
         "2"
        ],
        [
         "29",
         "93150",
         "2"
        ],
        [
         "30",
         "93261",
         "3"
        ],
        [
         "31",
         "93262",
         "3"
        ],
        [
         "32",
         "93263",
         "2"
        ],
        [
         "33",
         "93264",
         "3"
        ],
        [
         "34",
         "93265",
         "3"
        ],
        [
         "35",
         "93266",
         "3"
        ],
        [
         "36",
         "93267",
         "3"
        ],
        [
         "37",
         "93268",
         "3"
        ],
        [
         "38",
         "93269",
         "3"
        ],
        [
         "39",
         "93270",
         "2"
        ],
        [
         "74",
         "155826",
         "3"
        ],
        [
         "82",
         "170142",
         "2"
        ],
        [
         "93",
         "172588",
         "5"
        ],
        [
         "94",
         "172654",
         "5"
        ],
        [
         "97",
         "172801",
         "4"
        ],
        [
         "143",
         "753423",
         "2"
        ],
        [
         "144",
         "754005",
         "2"
        ],
        [
         "258",
         "771369",
         "2"
        ],
        [
         "259",
         "773062",
         "2"
        ],
        [
         "262",
         "773610",
         "2"
        ],
        [
         "264",
         "773620",
         "2"
        ],
        [
         "266",
         "773630",
         "2"
        ],
        [
         "269",
         "773645",
         "2"
        ],
        [
         "271",
         "773655",
         "2"
        ],
        [
         "273",
         "773665",
         "2"
        ],
        [
         "277",
         "774979",
         "2"
        ],
        [
         "278",
         "775157",
         "2"
        ],
        [
         "279",
         "775188",
         "2"
        ],
        [
         "280",
         "776235",
         "2"
        ],
        [
         "470",
         "940949",
         "6"
        ],
        [
         "471",
         "940968",
         "6"
        ],
        [
         "472",
         "941011",
         "6"
        ],
        [
         "473",
         "941039",
         "6"
        ],
        [
         "474",
         "941041",
         "6"
        ],
        [
         "475",
         "941046",
         "3"
        ],
        [
         "476",
         "941049",
         "5"
        ],
        [
         "477",
         "941051",
         "6"
        ],
        [
         "479",
         "941057",
         "6"
        ],
        [
         "480",
         "941059",
         "3"
        ],
        [
         "481",
         "941064",
         "6"
        ],
        [
         "482",
         "941072",
         "6"
        ]
       ],
       "shape": {
        "columns": 2,
        "rows": 1730
       }
      },
      "text/html": [
       "<div>\n",
       "<style scoped>\n",
       "    .dataframe tbody tr th:only-of-type {\n",
       "        vertical-align: middle;\n",
       "    }\n",
       "\n",
       "    .dataframe tbody tr th {\n",
       "        vertical-align: top;\n",
       "    }\n",
       "\n",
       "    .dataframe thead th {\n",
       "        text-align: right;\n",
       "    }\n",
       "</style>\n",
       "<table border=\"1\" class=\"dataframe\">\n",
       "  <thead>\n",
       "    <tr style=\"text-align: right;\">\n",
       "      <th></th>\n",
       "      <th>ObservationID</th>\n",
       "      <th>trait_count</th>\n",
       "    </tr>\n",
       "  </thead>\n",
       "  <tbody>\n",
       "    <tr>\n",
       "      <th>3</th>\n",
       "      <td>19514</td>\n",
       "      <td>2</td>\n",
       "    </tr>\n",
       "    <tr>\n",
       "      <th>4</th>\n",
       "      <td>19519</td>\n",
       "      <td>2</td>\n",
       "    </tr>\n",
       "    <tr>\n",
       "      <th>5</th>\n",
       "      <td>21962</td>\n",
       "      <td>2</td>\n",
       "    </tr>\n",
       "    <tr>\n",
       "      <th>6</th>\n",
       "      <td>23537</td>\n",
       "      <td>2</td>\n",
       "    </tr>\n",
       "    <tr>\n",
       "      <th>7</th>\n",
       "      <td>23662</td>\n",
       "      <td>2</td>\n",
       "    </tr>\n",
       "    <tr>\n",
       "      <th>...</th>\n",
       "      <td>...</td>\n",
       "      <td>...</td>\n",
       "    </tr>\n",
       "    <tr>\n",
       "      <th>6429</th>\n",
       "      <td>6361703</td>\n",
       "      <td>2</td>\n",
       "    </tr>\n",
       "    <tr>\n",
       "      <th>6430</th>\n",
       "      <td>6361704</td>\n",
       "      <td>2</td>\n",
       "    </tr>\n",
       "    <tr>\n",
       "      <th>6431</th>\n",
       "      <td>6361705</td>\n",
       "      <td>2</td>\n",
       "    </tr>\n",
       "    <tr>\n",
       "      <th>6432</th>\n",
       "      <td>6361706</td>\n",
       "      <td>2</td>\n",
       "    </tr>\n",
       "    <tr>\n",
       "      <th>6434</th>\n",
       "      <td>6361708</td>\n",
       "      <td>2</td>\n",
       "    </tr>\n",
       "  </tbody>\n",
       "</table>\n",
       "<p>1730 rows × 2 columns</p>\n",
       "</div>"
      ],
      "text/plain": [
       "      ObservationID  trait_count\n",
       "3             19514            2\n",
       "4             19519            2\n",
       "5             21962            2\n",
       "6             23537            2\n",
       "7             23662            2\n",
       "...             ...          ...\n",
       "6429        6361703            2\n",
       "6430        6361704            2\n",
       "6431        6361705            2\n",
       "6432        6361706            2\n",
       "6434        6361708            2\n",
       "\n",
       "[1730 rows x 2 columns]"
      ]
     },
     "execution_count": 36,
     "metadata": {},
     "output_type": "execute_result"
    }
   ],
   "source": [
    "# Keep only those with trait count >= 2\n",
    "obs_with_multiple_traits = trait_counts[trait_counts['trait_count'] >= 2]\n",
    "\n",
    "# Now check which of those also had trait 42\n",
    "result = obs_with_multiple_traits[obs_with_multiple_traits['ObservationID'].isin(has_trait_42)]\n",
    "\n",
    "# Count how many such observations there are\n",
    "count = len(result)\n",
    "print(\"Number of observations with trait 42 and at least one other trait:\", count)\n",
    "\n",
    "#Observations with both Plant Growth Form and at least another trait\n",
    "result # 1730/6483 observations\n",
    "\n",
    "#This means that only 1730 observations can have analysis performed according to a different plant growth form. And that"
   ]
  },
  {
   "cell_type": "code",
   "execution_count": 44,
   "id": "56843f59",
   "metadata": {},
   "outputs": [
    {
     "data": {
      "image/png": "[encoded data removed]",
      "text/plain": [
       "<Figure size 800x500 with 1 Axes>"
      ]
     },
     "metadata": {},
     "output_type": "display_data"
    }
   ],
   "source": [
    "# Use only the ObservationIDs from 'result'\n",
    "trait_count_result = trait_counts[trait_counts['ObservationID'].isin(result['ObservationID'])]\n",
    "\n",
    "# Calculate frequency of each trait count\n",
    "trait_count_freq_with_pgf = trait_count_result['trait_count'].value_counts().sort_index()\n",
    "\n",
    "# Create the plot\n",
    "plt.figure(figsize=(8, 5))\n",
    "ax = sns.barplot(x=trait_count_freq_with_pgf.index, y=trait_count_freq_with_pgf.values, color='green')\n",
    "\n",
    "# Add value labels on top of bars\n",
    "for index, value in enumerate(trait_count_freq_with_pgf.values):\n",
    "    ax.text(index, value + 1, str(value), ha='center', va='bottom', fontweight='bold')\n",
    "\n",
    "# Aesthetics\n",
    "plt.title('Trait Count (that include Plant Growth Form) Frequency per Observation')\n",
    "plt.xlabel('Number of Traits Measured')\n",
    "plt.ylabel('Number of Observations')\n",
    "plt.grid(axis='y', linestyle='--', alpha=0.7)\n",
    "plt.tight_layout()\n",
    "plt.show()"
   ]
  }
 ],
 "metadata": {
  "kernelspec": {
   "display_name": ".venv",
   "language": "python",
   "name": "python3"
  },
  "language_info": {
   "codemirror_mode": {
    "name": "ipython",
    "version": 3
   },
   "file_extension": ".py",
   "mimetype": "text/x-python",
   "name": "python",
   "nbconvert_exporter": "python",
   "pygments_lexer": "ipython3",
   "version": "3.12.2"
  }
 },
 "nbformat": 4,
 "nbformat_minor": 5
}
