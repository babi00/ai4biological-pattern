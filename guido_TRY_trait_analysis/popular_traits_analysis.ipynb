{
 "cells": [
  {
   "cell_type": "markdown",
   "id": "85f5aa01",
   "metadata": {},
   "source": [
    "In this file I will work (not sure what I will do yet) with the measurements of the 16 popular traits for the 3 most popular species in iNaturalist. \n",
    "\n",
    "To better understand how the traits and the species were chosen, refer to the file __traits_exploring.ipynb__\n",
    "\n",
    "For the documentation, refer to the file __TRY_6.0_Data_Release_Notes.pdf__"
   ]
  },
  {
   "cell_type": "markdown",
   "id": "71f3c7ec",
   "metadata": {},
   "source": [
    "Funny thing! In the file __filtered_MIS_traits.txt__ the name of the file is truncated to a certain number of characters. Therefore, the name of the trait \n",
    "\n",
    "\"Leaf area per leaf dry mass (specific leaf area, SLA or 1/LMA): undefined if petiole is in- or excluded\" \n",
    "\n",
    "appears as \n",
    "\n",
    "\"Leaf area per leaf dry mass (specific leaf area, SLA or 1/LMA): undefined if petiole is in- or exclu\"\n",
    "\n",
    "and initially wasn't found in the trait list when looking at \"top3_species_top_traits.txt\" with the names. I then switched to TraitID for this reason."
   ]
  },
  {
   "cell_type": "code",
   "execution_count": 32,
   "id": "ed97cdbd",
   "metadata": {},
   "outputs": [],
   "source": [
    "import pandas as pd"
   ]
  },
  {
   "cell_type": "code",
   "execution_count": 59,
   "id": "7833728e",
   "metadata": {},
   "outputs": [
    {
     "name": "stdout",
     "output_type": "stream",
     "text": [
      "There are 16 traits in total\n",
      "\n"
     ]
    }
   ],
   "source": [
    "with open('trait_id_list.txt', 'r') as openfile:\n",
    "    trait_ids = openfile.read().splitlines()\n",
    "\n",
    "print(f\"There are {len(trait_ids)} traits in total\\n\")\n",
    "\n",
    "#mapping them to int because they were read as strings\n",
    "trait_ids = list(map(lambda x : int(x), trait_ids))\n"
   ]
  },
  {
   "cell_type": "code",
   "execution_count": 43,
   "id": "82a91959",
   "metadata": {},
   "outputs": [
    {
     "name": "stdout",
     "output_type": "stream",
     "text": [
      "Total: 116532\n",
      "After removing outliers: 116032\n",
      "After removing duplicates: 112000\n"
     ]
    },
    {
     "name": "stderr",
     "output_type": "stream",
     "text": [
      "C:\\Users\\guido\\AppData\\Local\\Temp\\ipykernel_4536\\1490526793.py:2: DtypeWarning: Columns (19) have mixed types. Specify dtype option on import or set low_memory=False.\n",
      "  top3_species_top_traits = pd.read_csv('top3_species_top_traits.txt', sep='\\t', encoding='latin')\n"
     ]
    }
   ],
   "source": [
    "#specifing encoding='latin' is necessary or you get an error\n",
    "top3_species_top_traits = pd.read_csv('top3_species_top_traits.txt', sep='\\t', encoding='latin')\n",
    "\n",
    "print(\"Total:\", len(top3_species_top_traits))\n",
    "\n",
    "#clear outliers: refer to the documentation obtained with the data request to better understand\n",
    "#only keeping the measurement that have a value included in a range of 4 standard deviations. The rest are likely outliers or wrong.\n",
    "#also keep the rows with no value in ErrorRisk, because that is metadata\n",
    "\n",
    "#500 measurements dropped.\n",
    "top3_species_top_traits = top3_species_top_traits[(top3_species_top_traits['ErrorRisk'] < 4.0) | (top3_species_top_traits['ErrorRisk'].isnull())]\n",
    "\n",
    "print(\"After removing outliers:\", len(top3_species_top_traits))\n",
    "\n",
    "#now remove the duplicates. Again, refer to the documentation for more information\n",
    "#4032 observations removed\n",
    "top3_species_top_traits = top3_species_top_traits[top3_species_top_traits['OrigObsDataID'].isnull()]\n",
    "\n",
    "#Note that duplicates are only referred to trait measurements.\n",
    "#Therefore removing rows marked as \"duplicates\" might leave in the dataframe rows related to the single observation (eg. location)\n",
    "#For these values, TraitName is not present. The information is located in the \"DataName\" column.\n",
    "#If exploration is necessary, refer to the \"ObservationID\" of the original dataframe\n",
    "\n",
    "print(\"After removing duplicates:\", len(top3_species_top_traits))\n",
    "\n",
    "#Related to what I mentioned above, now I only keep data related to the trait measurements. No metadata.\n",
    "trait_measurements = top3_species_top_traits[top3_species_top_traits['TraitID'].isin(trait_ids)]\n",
    "\n",
    "#I remove this trait because I only want numerical traits, for now.\n",
    "#I can always use it again if I need to do something with it.\n",
    "#For example, should I perform different analysis according to the plant growth form? (there are 121 distinct forms...)\n",
    "trait_measurements_no_plant_form = trait_measurements[trait_measurements['TraitName'] != 'Plant growth form']\n",
    "\n"
   ]
  },
  {
   "cell_type": "code",
   "execution_count": 35,
   "id": "79b32101",
   "metadata": {},
   "outputs": [],
   "source": [
    "dactylis_glomerata_df = trait_measurements[trait_measurements['AccSpeciesName']=='Dactylis glomerata']\n",
    "achillea_millefolium_df = trait_measurements[trait_measurements['AccSpeciesName']=='Achillea millefolium']\n",
    "trifolium_pratense_df = trait_measurements[trait_measurements['AccSpeciesName']=='Trifolium pratense']\n",
    "\n",
    "#important: remember to select AccSpeciesName and not SpeciesName, because only the first referes to the consolidated name of the\n",
    "#species and you risk losing data if you don't do so (eg Achillea lanulosa)\n"
   ]
  },
  {
   "cell_type": "code",
   "execution_count": null,
   "id": "f400a41f",
   "metadata": {},
   "outputs": [
    {
     "data": {
      "application/vnd.microsoft.datawrangler.viewer.v0+json": {
       "columns": [
        {
         "name": "index",
         "rawType": "int64",
         "type": "integer"
        },
        {
         "name": "ObservationID",
         "rawType": "int64",
         "type": "integer"
        },
        {
         "name": "TraitID",
         "rawType": "float64",
         "type": "float"
        },
        {
         "name": "TraitName",
         "rawType": "object",
         "type": "string"
        },
        {
         "name": "OrigValueStr",
         "rawType": "object",
         "type": "string"
        },
        {
         "name": "OrigUnitStr",
         "rawType": "object",
         "type": "unknown"
        },
        {
         "name": "StdValue",
         "rawType": "float64",
         "type": "float"
        },
        {
         "name": "UnitName",
         "rawType": "object",
         "type": "unknown"
        }
       ],
       "conversionMethod": "pd.DataFrame",
       "ref": "3750edcd-6098-49a9-b359-d5d59c4a197d",
       "rows": [
        [
         "9",
         "19150",
         "13.0",
         "Leaf carbon (C) content per leaf dry mass",
         "45.85",
         "%",
         "458.5",
         "mg/g"
        ],
        [
         "15",
         "19194",
         "13.0",
         "Leaf carbon (C) content per leaf dry mass",
         "41.62",
         "%",
         "416.2",
         "mg/g"
        ],
        [
         "20",
         "19216",
         "14.0",
         "Leaf nitrogen (N) content per leaf dry mass",
         "2.78",
         "%",
         "27.8",
         "mg/g"
        ],
        [
         "28",
         "19514",
         "42.0",
         "Plant growth form",
         "Herbaceous Monocot",
         null,
         null,
         null
        ],
        [
         "29",
         "19514",
         "14.0",
         "Leaf nitrogen (N) content per leaf dry mass",
         "1.591335",
         "%",
         "15.91335",
         "mg/g"
        ]
       ],
       "shape": {
        "columns": 7,
        "rows": 5
       }
      },
      "text/html": [
       "<div>\n",
       "<style scoped>\n",
       "    .dataframe tbody tr th:only-of-type {\n",
       "        vertical-align: middle;\n",
       "    }\n",
       "\n",
       "    .dataframe tbody tr th {\n",
       "        vertical-align: top;\n",
       "    }\n",
       "\n",
       "    .dataframe thead th {\n",
       "        text-align: right;\n",
       "    }\n",
       "</style>\n",
       "<table border=\"1\" class=\"dataframe\">\n",
       "  <thead>\n",
       "    <tr style=\"text-align: right;\">\n",
       "      <th></th>\n",
       "      <th>ObservationID</th>\n",
       "      <th>TraitID</th>\n",
       "      <th>TraitName</th>\n",
       "      <th>OrigValueStr</th>\n",
       "      <th>OrigUnitStr</th>\n",
       "      <th>StdValue</th>\n",
       "      <th>UnitName</th>\n",
       "    </tr>\n",
       "  </thead>\n",
       "  <tbody>\n",
       "    <tr>\n",
       "      <th>9</th>\n",
       "      <td>19150</td>\n",
       "      <td>13.0</td>\n",
       "      <td>Leaf carbon (C) content per leaf dry mass</td>\n",
       "      <td>45.85</td>\n",
       "      <td>%</td>\n",
       "      <td>458.50000</td>\n",
       "      <td>mg/g</td>\n",
       "    </tr>\n",
       "    <tr>\n",
       "      <th>15</th>\n",
       "      <td>19194</td>\n",
       "      <td>13.0</td>\n",
       "      <td>Leaf carbon (C) content per leaf dry mass</td>\n",
       "      <td>41.62</td>\n",
       "      <td>%</td>\n",
       "      <td>416.20000</td>\n",
       "      <td>mg/g</td>\n",
       "    </tr>\n",
       "    <tr>\n",
       "      <th>20</th>\n",
       "      <td>19216</td>\n",
       "      <td>14.0</td>\n",
       "      <td>Leaf nitrogen (N) content per leaf dry mass</td>\n",
       "      <td>2.78</td>\n",
       "      <td>%</td>\n",
       "      <td>27.80000</td>\n",
       "      <td>mg/g</td>\n",
       "    </tr>\n",
       "    <tr>\n",
       "      <th>28</th>\n",
       "      <td>19514</td>\n",
       "      <td>42.0</td>\n",
       "      <td>Plant growth form</td>\n",
       "      <td>Herbaceous Monocot</td>\n",
       "      <td>NaN</td>\n",
       "      <td>NaN</td>\n",
       "      <td>NaN</td>\n",
       "    </tr>\n",
       "    <tr>\n",
       "      <th>29</th>\n",
       "      <td>19514</td>\n",
       "      <td>14.0</td>\n",
       "      <td>Leaf nitrogen (N) content per leaf dry mass</td>\n",
       "      <td>1.591335</td>\n",
       "      <td>%</td>\n",
       "      <td>15.91335</td>\n",
       "      <td>mg/g</td>\n",
       "    </tr>\n",
       "  </tbody>\n",
       "</table>\n",
       "</div>"
      ],
      "text/plain": [
       "    ObservationID  TraitID                                    TraitName  \\\n",
       "9           19150     13.0    Leaf carbon (C) content per leaf dry mass   \n",
       "15          19194     13.0    Leaf carbon (C) content per leaf dry mass   \n",
       "20          19216     14.0  Leaf nitrogen (N) content per leaf dry mass   \n",
       "28          19514     42.0                            Plant growth form   \n",
       "29          19514     14.0  Leaf nitrogen (N) content per leaf dry mass   \n",
       "\n",
       "          OrigValueStr OrigUnitStr   StdValue UnitName  \n",
       "9                45.85           %  458.50000     mg/g  \n",
       "15               41.62           %  416.20000     mg/g  \n",
       "20                2.78           %   27.80000     mg/g  \n",
       "28  Herbaceous Monocot         NaN        NaN      NaN  \n",
       "29            1.591335           %   15.91335     mg/g  "
      ]
     },
     "execution_count": 36,
     "metadata": {},
     "output_type": "execute_result"
    }
   ],
   "source": [
    "columns_of_interest = ['ObservationID', 'TraitID', 'TraitName', 'OrigValueStr', 'OrigUnitStr', 'StdValue', 'UnitName']\n",
    "\n",
    "dac_glo_trait_df = dactylis_glomerata_df[columns_of_interest]\n",
    "ach_mil_trait_df = achillea_millefolium_df[columns_of_interest]\n",
    "tri_pra_trait_df = trifolium_pratense_df[columns_of_interest]\n",
    "\n",
    "dac_glo_trait_df[:5]\n",
    "\n",
    "#I keep the observationID in case I need to link it to its metadata\n",
    "#I also have to keep both Original Value and Standardized Value, because for textual data (e.g. Plant Growth Form)\n",
    "#there is no standardized value"
   ]
  },
  {
   "cell_type": "code",
   "execution_count": 41,
   "id": "b86f3524",
   "metadata": {},
   "outputs": [],
   "source": [
    "#just wanted to check that they are all there\n",
    "# unique = list(dac_glo_trait_df['TraitName'].unique())\n",
    "# print(sorted(unique))\n"
   ]
  },
  {
   "cell_type": "code",
   "execution_count": 66,
   "id": "5a93bcb7",
   "metadata": {},
   "outputs": [],
   "source": [
    "def trait_analysis(df, id):\n",
    "\n",
    "    trait_specific_df = df[df['TraitID']==id]\n",
    "\n",
    "    trait_values = {\n",
    "        'TraitID' : id,\n",
    "        'TraitName': trait_specific_df['TraitName'].iloc[0] #they are all the same\n",
    "    }\n",
    "\n",
    "    trait_values['Mean'] = trait_specific_df['StdValue'].mean()\n",
    "    trait_values['Std'] = trait_specific_df['StdValue'].std()\n",
    "    trait_values['Median'] = trait_specific_df['StdValue'].median()\n",
    "    trait_values['UnitName'] = trait_specific_df['UnitName'].iloc[0]\n",
    "\n",
    "    return pd.Series(trait_values)"
   ]
  },
  {
   "cell_type": "code",
   "execution_count": 75,
   "id": "ee0d453d",
   "metadata": {},
   "outputs": [
    {
     "data": {
      "application/vnd.microsoft.datawrangler.viewer.v0+json": {
       "columns": [
        {
         "name": "index",
         "rawType": "int64",
         "type": "integer"
        },
        {
         "name": "TraitID",
         "rawType": "object",
         "type": "unknown"
        },
        {
         "name": "TraitName",
         "rawType": "object",
         "type": "string"
        },
        {
         "name": "Mean",
         "rawType": "object",
         "type": "unknown"
        },
        {
         "name": "Std",
         "rawType": "object",
         "type": "unknown"
        },
        {
         "name": "Median",
         "rawType": "object",
         "type": "unknown"
        },
        {
         "name": "UnitName",
         "rawType": "object",
         "type": "string"
        }
       ],
       "conversionMethod": "pd.DataFrame",
       "ref": "f093181c-9e8e-40bf-95e5-71c80a4c8784",
       "rows": [
        [
         "0",
         "3117",
         "Leaf area per leaf dry mass (specific leaf area, SLA or 1/LMA): undefined if petiole is in- or excluded",
         "24.99290842006588",
         "7.758923825881234",
         "23.7225",
         "mm2 mg-1"
        ],
        [
         "1",
         "13",
         "Leaf carbon (C) content per leaf dry mass",
         "453.11470955948795",
         "23.759855046285878",
         "449.932",
         "mg/g"
        ],
        [
         "2",
         "55",
         "Leaf dry mass (single leaf)",
         "73.26112488480223",
         "63.81897941437841",
         "53.3",
         "mg"
        ],
        [
         "3",
         "47",
         "Leaf dry mass per leaf fresh mass (leaf dry matter content, LDMC)",
         "0.27508660103897437",
         "0.05797408596745225",
         "0.267",
         "g/g"
        ],
        [
         "4",
         "163",
         "Leaf fresh mass",
         "0.277900942408377",
         "0.22094995514619867",
         "0.224",
         "g"
        ],
        [
         "5",
         "50",
         "Leaf nitrogen (N) content per leaf area",
         "0.967232725600208",
         "0.31451383957723106",
         "0.919261356271934",
         "g m-2"
        ],
        [
         "6",
         "14",
         "Leaf nitrogen (N) content per leaf dry mass",
         "24.257658869025672",
         "7.137245682611424",
         "24.22214588",
         "mg/g"
        ],
        [
         "7",
         "403",
         "Plant biomass and allometry: Shoot dry mass (plant aboveground dry mass) per plant",
         "1.8977589097222225",
         "4.998162556819652",
         "0.32635000000000003",
         "g"
        ],
        [
         "8",
         "3106",
         "Plant height vegetative",
         "0.4724290819670877",
         "0.322961232643493",
         "0.4",
         "m"
        ],
        [
         "9",
         "33",
         "Seed (seedbank) longevity",
         "0.16774193548387098",
         "0.49153170351440434",
         "0.0",
         "dimensionless"
        ],
        [
         "10",
         "1111",
         "Seedbank density",
         "66.73432835820896",
         "252.017508155362",
         "0.0",
         "1/m2"
        ],
        [
         "11",
         "2809",
         "Seedbank duration",
         "10.598360655737705",
         "8.047162891422845",
         "10.0",
         "month"
        ],
        [
         "12",
         "2807",
         "Seedbank number of layers",
         "1.9180327868852458",
         "2.2382663080102354",
         "1.0",
         "1/plant"
        ],
        [
         "13",
         "2808",
         "Seedbank thickness of top layer",
         "72.275",
         "47.82016927765511",
         "65.0",
         "mm"
        ]
       ],
       "shape": {
        "columns": 6,
        "rows": 14
       }
      },
      "text/html": [
       "<div>\n",
       "<style scoped>\n",
       "    .dataframe tbody tr th:only-of-type {\n",
       "        vertical-align: middle;\n",
       "    }\n",
       "\n",
       "    .dataframe tbody tr th {\n",
       "        vertical-align: top;\n",
       "    }\n",
       "\n",
       "    .dataframe thead th {\n",
       "        text-align: right;\n",
       "    }\n",
       "</style>\n",
       "<table border=\"1\" class=\"dataframe\">\n",
       "  <thead>\n",
       "    <tr style=\"text-align: right;\">\n",
       "      <th></th>\n",
       "      <th>TraitID</th>\n",
       "      <th>TraitName</th>\n",
       "      <th>Mean</th>\n",
       "      <th>Std</th>\n",
       "      <th>Median</th>\n",
       "      <th>UnitName</th>\n",
       "    </tr>\n",
       "  </thead>\n",
       "  <tbody>\n",
       "    <tr>\n",
       "      <th>0</th>\n",
       "      <td>3117</td>\n",
       "      <td>Leaf area per leaf dry mass (specific leaf are...</td>\n",
       "      <td>24.992908</td>\n",
       "      <td>7.758924</td>\n",
       "      <td>23.7225</td>\n",
       "      <td>mm2 mg-1</td>\n",
       "    </tr>\n",
       "    <tr>\n",
       "      <th>1</th>\n",
       "      <td>13</td>\n",
       "      <td>Leaf carbon (C) content per leaf dry mass</td>\n",
       "      <td>453.11471</td>\n",
       "      <td>23.759855</td>\n",
       "      <td>449.932</td>\n",
       "      <td>mg/g</td>\n",
       "    </tr>\n",
       "    <tr>\n",
       "      <th>2</th>\n",
       "      <td>55</td>\n",
       "      <td>Leaf dry mass (single leaf)</td>\n",
       "      <td>73.261125</td>\n",
       "      <td>63.818979</td>\n",
       "      <td>53.3</td>\n",
       "      <td>mg</td>\n",
       "    </tr>\n",
       "    <tr>\n",
       "      <th>3</th>\n",
       "      <td>47</td>\n",
       "      <td>Leaf dry mass per leaf fresh mass (leaf dry ma...</td>\n",
       "      <td>0.275087</td>\n",
       "      <td>0.057974</td>\n",
       "      <td>0.267</td>\n",
       "      <td>g/g</td>\n",
       "    </tr>\n",
       "    <tr>\n",
       "      <th>4</th>\n",
       "      <td>163</td>\n",
       "      <td>Leaf fresh mass</td>\n",
       "      <td>0.277901</td>\n",
       "      <td>0.22095</td>\n",
       "      <td>0.224</td>\n",
       "      <td>g</td>\n",
       "    </tr>\n",
       "    <tr>\n",
       "      <th>5</th>\n",
       "      <td>50</td>\n",
       "      <td>Leaf nitrogen (N) content per leaf area</td>\n",
       "      <td>0.967233</td>\n",
       "      <td>0.314514</td>\n",
       "      <td>0.919261</td>\n",
       "      <td>g m-2</td>\n",
       "    </tr>\n",
       "    <tr>\n",
       "      <th>6</th>\n",
       "      <td>14</td>\n",
       "      <td>Leaf nitrogen (N) content per leaf dry mass</td>\n",
       "      <td>24.257659</td>\n",
       "      <td>7.137246</td>\n",
       "      <td>24.222146</td>\n",
       "      <td>mg/g</td>\n",
       "    </tr>\n",
       "    <tr>\n",
       "      <th>7</th>\n",
       "      <td>403</td>\n",
       "      <td>Plant biomass and allometry: Shoot dry mass (p...</td>\n",
       "      <td>1.897759</td>\n",
       "      <td>4.998163</td>\n",
       "      <td>0.32635</td>\n",
       "      <td>g</td>\n",
       "    </tr>\n",
       "    <tr>\n",
       "      <th>8</th>\n",
       "      <td>3106</td>\n",
       "      <td>Plant height vegetative</td>\n",
       "      <td>0.472429</td>\n",
       "      <td>0.322961</td>\n",
       "      <td>0.4</td>\n",
       "      <td>m</td>\n",
       "    </tr>\n",
       "    <tr>\n",
       "      <th>9</th>\n",
       "      <td>33</td>\n",
       "      <td>Seed (seedbank) longevity</td>\n",
       "      <td>0.167742</td>\n",
       "      <td>0.491532</td>\n",
       "      <td>0.0</td>\n",
       "      <td>dimensionless</td>\n",
       "    </tr>\n",
       "    <tr>\n",
       "      <th>10</th>\n",
       "      <td>1111</td>\n",
       "      <td>Seedbank density</td>\n",
       "      <td>66.734328</td>\n",
       "      <td>252.017508</td>\n",
       "      <td>0.0</td>\n",
       "      <td>1/m2</td>\n",
       "    </tr>\n",
       "    <tr>\n",
       "      <th>11</th>\n",
       "      <td>2809</td>\n",
       "      <td>Seedbank duration</td>\n",
       "      <td>10.598361</td>\n",
       "      <td>8.047163</td>\n",
       "      <td>10.0</td>\n",
       "      <td>month</td>\n",
       "    </tr>\n",
       "    <tr>\n",
       "      <th>12</th>\n",
       "      <td>2807</td>\n",
       "      <td>Seedbank number of layers</td>\n",
       "      <td>1.918033</td>\n",
       "      <td>2.238266</td>\n",
       "      <td>1.0</td>\n",
       "      <td>1/plant</td>\n",
       "    </tr>\n",
       "    <tr>\n",
       "      <th>13</th>\n",
       "      <td>2808</td>\n",
       "      <td>Seedbank thickness of top layer</td>\n",
       "      <td>72.275</td>\n",
       "      <td>47.820169</td>\n",
       "      <td>65.0</td>\n",
       "      <td>mm</td>\n",
       "    </tr>\n",
       "  </tbody>\n",
       "</table>\n",
       "</div>"
      ],
      "text/plain": [
       "   TraitID                                          TraitName       Mean  \\\n",
       "0     3117  Leaf area per leaf dry mass (specific leaf are...  24.992908   \n",
       "1       13          Leaf carbon (C) content per leaf dry mass  453.11471   \n",
       "2       55                        Leaf dry mass (single leaf)  73.261125   \n",
       "3       47  Leaf dry mass per leaf fresh mass (leaf dry ma...   0.275087   \n",
       "4      163                                    Leaf fresh mass   0.277901   \n",
       "5       50            Leaf nitrogen (N) content per leaf area   0.967233   \n",
       "6       14        Leaf nitrogen (N) content per leaf dry mass  24.257659   \n",
       "7      403  Plant biomass and allometry: Shoot dry mass (p...   1.897759   \n",
       "8     3106                            Plant height vegetative   0.472429   \n",
       "9       33                          Seed (seedbank) longevity   0.167742   \n",
       "10    1111                                   Seedbank density  66.734328   \n",
       "11    2809                                  Seedbank duration  10.598361   \n",
       "12    2807                          Seedbank number of layers   1.918033   \n",
       "13    2808                    Seedbank thickness of top layer     72.275   \n",
       "\n",
       "           Std     Median       UnitName  \n",
       "0     7.758924    23.7225       mm2 mg-1  \n",
       "1    23.759855    449.932           mg/g  \n",
       "2    63.818979       53.3             mg  \n",
       "3     0.057974      0.267            g/g  \n",
       "4      0.22095      0.224              g  \n",
       "5     0.314514   0.919261          g m-2  \n",
       "6     7.137246  24.222146           mg/g  \n",
       "7     4.998163    0.32635              g  \n",
       "8     0.322961        0.4              m  \n",
       "9     0.491532        0.0  dimensionless  \n",
       "10  252.017508        0.0           1/m2  \n",
       "11    8.047163       10.0          month  \n",
       "12    2.238266        1.0        1/plant  \n",
       "13   47.820169       65.0             mm  "
      ]
     },
     "execution_count": 75,
     "metadata": {},
     "output_type": "execute_result"
    }
   ],
   "source": [
    "dac_glo_trait_analysis = pd.DataFrame(columns=['TraitID', 'TraitName', 'Mean', 'Std', 'Median', 'UnitName'])\n",
    "\n",
    "#all minus plant growth form as specified above\n",
    "trait_ids_minus_plant_growth_form = [tid for tid in trait_ids if (tid != 42 and tid != 159)]\n",
    "\n",
    "for id in trait_ids_minus_plant_growth_form:\n",
    "    dac_glo_trait_analysis.loc[len(dac_glo_trait_analysis)] = trait_analysis(dac_glo_trait_df, id)\n",
    "\n",
    "dac_glo_trait_analysis\n",
    "\n",
    "#careful, seedbank density median is set as 0"
   ]
  }
 ],
 "metadata": {
  "kernelspec": {
   "display_name": ".venv",
   "language": "python",
   "name": "python3"
  },
  "language_info": {
   "codemirror_mode": {
    "name": "ipython",
    "version": 3
   },
   "file_extension": ".py",
   "mimetype": "text/x-python",
   "name": "python",
   "nbconvert_exporter": "python",
   "pygments_lexer": "ipython3",
   "version": "3.12.2"
  }
 },
 "nbformat": 4,
 "nbformat_minor": 5
}
