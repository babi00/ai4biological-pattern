{
 "cells": [
  {
   "cell_type": "markdown",
   "id": "85f5aa01",
   "metadata": {},
   "source": [
    "In this file I will work (not sure what I will do yet) with the measurements of the 16 popular traits for the 3 most popular species in iNaturalist. \n",
    "\n",
    "To better understand how the traits and the species were chosen, refer to the file __traits_exploring.ipynb__\n",
    "\n",
    "For the documentation, refer to the file __TRY_6.0_Data_Release_Notes.pdf__"
   ]
  },
  {
   "cell_type": "markdown",
   "id": "71f3c7ec",
   "metadata": {},
   "source": [
    "Funny thing! In the file __filtered_MIS_traits.txt__ the name of the file is truncated to a certain number of characters. Therefore, the name of the trait \n",
    "\n",
    "\"Leaf area per leaf dry mass (specific leaf area, SLA or 1/LMA): undefined if petiole is in- or excluded\" \n",
    "\n",
    "appears as \n",
    "\n",
    "\"Leaf area per leaf dry mass (specific leaf area, SLA or 1/LMA): undefined if petiole is in- or exclu\"\n",
    "\n",
    "and initially wasn't found in the trait list when looking at \"top3_species_top_traits.txt\" with the names. I then switched to TraitID for this reason."
   ]
  },
  {
   "cell_type": "code",
   "execution_count": 32,
   "id": "ed97cdbd",
   "metadata": {},
   "outputs": [],
   "source": [
    "import pandas as pd"
   ]
  },
  {
   "cell_type": "code",
   "execution_count": 33,
   "id": "7833728e",
   "metadata": {},
   "outputs": [
    {
     "name": "stdout",
     "output_type": "stream",
     "text": [
      "There are 16 traits in total\n",
      "\n"
     ]
    }
   ],
   "source": [
    "with open('trait_id_list.txt', 'r') as openfile:\n",
    "    trait_ids = openfile.read().splitlines()\n",
    "\n",
    "print(f\"There are {len(trait_ids)} traits in total\\n\")\n",
    "\n",
    "#mapping them to int because they were read as strings\n",
    "trait_ids = list(map(lambda x : int(x), trait_ids))\n"
   ]
  },
  {
   "cell_type": "code",
   "execution_count": 34,
   "id": "82a91959",
   "metadata": {},
   "outputs": [
    {
     "name": "stdout",
     "output_type": "stream",
     "text": [
      "Total: 116532\n",
      "After removing outliers: 116032\n",
      "After removing duplicates: 112000\n"
     ]
    },
    {
     "name": "stderr",
     "output_type": "stream",
     "text": [
      "C:\\Users\\guido\\AppData\\Local\\Temp\\ipykernel_4536\\6889175.py:2: DtypeWarning: Columns (19) have mixed types. Specify dtype option on import or set low_memory=False.\n",
      "  top3_species_top_traits = pd.read_csv('top3_species_top_traits.txt', sep='\\t', encoding='latin')\n"
     ]
    }
   ],
   "source": [
    "#specifing encoding='latin' is necessary or you get an error\n",
    "top3_species_top_traits = pd.read_csv('top3_species_top_traits.txt', sep='\\t', encoding='latin')\n",
    "\n",
    "print(\"Total:\", len(top3_species_top_traits))\n",
    "\n",
    "#clear outliers: refer to the documentation obtained with the data request to better understand\n",
    "#only keeping the measurement that have a value included in a range of 4 standard deviations. The rest are likely outliers or wrong.\n",
    "#also keep the rows with no value in ErrorRisk, because that is metadata\n",
    "\n",
    "#500 measurements dropped.\n",
    "top3_species_top_traits = top3_species_top_traits[(top3_species_top_traits['ErrorRisk'] < 4.0) | (top3_species_top_traits['ErrorRisk'].isnull())]\n",
    "\n",
    "print(\"After removing outliers:\", len(top3_species_top_traits))\n",
    "\n",
    "#now remove the duplicates. Again, refer to the documentation for more information\n",
    "#4032 observations removed\n",
    "top3_species_top_traits = top3_species_top_traits[top3_species_top_traits['OrigObsDataID'].isnull()]\n",
    "\n",
    "#Note that duplicates are only referred to trait measurements.\n",
    "#Therefore removing rows marked as \"duplicates\" might leave in the dataframe rows related to the single observation (eg. location)\n",
    "#For these values, TraitName is not present. The information is located in the \"DataName\" column.\n",
    "#If exploration is necessary, refer to the \"ObservationID\" of the original dataframe\n",
    "\n",
    "print(\"After removing duplicates:\", len(top3_species_top_traits))\n",
    "\n",
    "#Related to what I mentioned above, now I only keep data related to the trait measurements. No metadata.\n",
    "trait_measurements = top3_species_top_traits[top3_species_top_traits['TraitID'].isin(trait_ids)]\n",
    "\n"
   ]
  },
  {
   "cell_type": "code",
   "execution_count": 35,
   "id": "79b32101",
   "metadata": {},
   "outputs": [],
   "source": [
    "dactylis_glomerata_df = trait_measurements[trait_measurements['AccSpeciesName']=='Dactylis glomerata']\n",
    "achillea_millefolium_df = trait_measurements[trait_measurements['AccSpeciesName']=='Achillea millefolium']\n",
    "trifolium_pratense_df = trait_measurements[trait_measurements['AccSpeciesName']=='Trifolium pratense']\n",
    "\n",
    "#important: remember to select AccSpeciesName and not SpeciesName, because only the first referes to the consolidated name of the\n",
    "#species and you risk losing data if you don't do so (eg Achillea lanulosa)\n"
   ]
  },
  {
   "cell_type": "code",
   "execution_count": null,
   "id": "f400a41f",
   "metadata": {},
   "outputs": [
    {
     "data": {
      "application/vnd.microsoft.datawrangler.viewer.v0+json": {
       "columns": [
        {
         "name": "index",
         "rawType": "int64",
         "type": "integer"
        },
        {
         "name": "ObservationID",
         "rawType": "int64",
         "type": "integer"
        },
        {
         "name": "TraitID",
         "rawType": "float64",
         "type": "float"
        },
        {
         "name": "TraitName",
         "rawType": "object",
         "type": "string"
        },
        {
         "name": "OrigValueStr",
         "rawType": "object",
         "type": "string"
        },
        {
         "name": "OrigUnitStr",
         "rawType": "object",
         "type": "unknown"
        },
        {
         "name": "StdValue",
         "rawType": "float64",
         "type": "float"
        },
        {
         "name": "UnitName",
         "rawType": "object",
         "type": "unknown"
        }
       ],
       "conversionMethod": "pd.DataFrame",
       "ref": "3750edcd-6098-49a9-b359-d5d59c4a197d",
       "rows": [
        [
         "9",
         "19150",
         "13.0",
         "Leaf carbon (C) content per leaf dry mass",
         "45.85",
         "%",
         "458.5",
         "mg/g"
        ],
        [
         "15",
         "19194",
         "13.0",
         "Leaf carbon (C) content per leaf dry mass",
         "41.62",
         "%",
         "416.2",
         "mg/g"
        ],
        [
         "20",
         "19216",
         "14.0",
         "Leaf nitrogen (N) content per leaf dry mass",
         "2.78",
         "%",
         "27.8",
         "mg/g"
        ],
        [
         "28",
         "19514",
         "42.0",
         "Plant growth form",
         "Herbaceous Monocot",
         null,
         null,
         null
        ],
        [
         "29",
         "19514",
         "14.0",
         "Leaf nitrogen (N) content per leaf dry mass",
         "1.591335",
         "%",
         "15.91335",
         "mg/g"
        ]
       ],
       "shape": {
        "columns": 7,
        "rows": 5
       }
      },
      "text/html": [
       "<div>\n",
       "<style scoped>\n",
       "    .dataframe tbody tr th:only-of-type {\n",
       "        vertical-align: middle;\n",
       "    }\n",
       "\n",
       "    .dataframe tbody tr th {\n",
       "        vertical-align: top;\n",
       "    }\n",
       "\n",
       "    .dataframe thead th {\n",
       "        text-align: right;\n",
       "    }\n",
       "</style>\n",
       "<table border=\"1\" class=\"dataframe\">\n",
       "  <thead>\n",
       "    <tr style=\"text-align: right;\">\n",
       "      <th></th>\n",
       "      <th>ObservationID</th>\n",
       "      <th>TraitID</th>\n",
       "      <th>TraitName</th>\n",
       "      <th>OrigValueStr</th>\n",
       "      <th>OrigUnitStr</th>\n",
       "      <th>StdValue</th>\n",
       "      <th>UnitName</th>\n",
       "    </tr>\n",
       "  </thead>\n",
       "  <tbody>\n",
       "    <tr>\n",
       "      <th>9</th>\n",
       "      <td>19150</td>\n",
       "      <td>13.0</td>\n",
       "      <td>Leaf carbon (C) content per leaf dry mass</td>\n",
       "      <td>45.85</td>\n",
       "      <td>%</td>\n",
       "      <td>458.50000</td>\n",
       "      <td>mg/g</td>\n",
       "    </tr>\n",
       "    <tr>\n",
       "      <th>15</th>\n",
       "      <td>19194</td>\n",
       "      <td>13.0</td>\n",
       "      <td>Leaf carbon (C) content per leaf dry mass</td>\n",
       "      <td>41.62</td>\n",
       "      <td>%</td>\n",
       "      <td>416.20000</td>\n",
       "      <td>mg/g</td>\n",
       "    </tr>\n",
       "    <tr>\n",
       "      <th>20</th>\n",
       "      <td>19216</td>\n",
       "      <td>14.0</td>\n",
       "      <td>Leaf nitrogen (N) content per leaf dry mass</td>\n",
       "      <td>2.78</td>\n",
       "      <td>%</td>\n",
       "      <td>27.80000</td>\n",
       "      <td>mg/g</td>\n",
       "    </tr>\n",
       "    <tr>\n",
       "      <th>28</th>\n",
       "      <td>19514</td>\n",
       "      <td>42.0</td>\n",
       "      <td>Plant growth form</td>\n",
       "      <td>Herbaceous Monocot</td>\n",
       "      <td>NaN</td>\n",
       "      <td>NaN</td>\n",
       "      <td>NaN</td>\n",
       "    </tr>\n",
       "    <tr>\n",
       "      <th>29</th>\n",
       "      <td>19514</td>\n",
       "      <td>14.0</td>\n",
       "      <td>Leaf nitrogen (N) content per leaf dry mass</td>\n",
       "      <td>1.591335</td>\n",
       "      <td>%</td>\n",
       "      <td>15.91335</td>\n",
       "      <td>mg/g</td>\n",
       "    </tr>\n",
       "  </tbody>\n",
       "</table>\n",
       "</div>"
      ],
      "text/plain": [
       "    ObservationID  TraitID                                    TraitName  \\\n",
       "9           19150     13.0    Leaf carbon (C) content per leaf dry mass   \n",
       "15          19194     13.0    Leaf carbon (C) content per leaf dry mass   \n",
       "20          19216     14.0  Leaf nitrogen (N) content per leaf dry mass   \n",
       "28          19514     42.0                            Plant growth form   \n",
       "29          19514     14.0  Leaf nitrogen (N) content per leaf dry mass   \n",
       "\n",
       "          OrigValueStr OrigUnitStr   StdValue UnitName  \n",
       "9                45.85           %  458.50000     mg/g  \n",
       "15               41.62           %  416.20000     mg/g  \n",
       "20                2.78           %   27.80000     mg/g  \n",
       "28  Herbaceous Monocot         NaN        NaN      NaN  \n",
       "29            1.591335           %   15.91335     mg/g  "
      ]
     },
     "execution_count": 36,
     "metadata": {},
     "output_type": "execute_result"
    }
   ],
   "source": [
    "columns_of_interest = ['ObservationID', 'TraitID', 'TraitName', 'OrigValueStr', 'OrigUnitStr', 'StdValue', 'UnitName']\n",
    "\n",
    "dac_glo_trait_df = dactylis_glomerata_df[columns_of_interest]\n",
    "ach_mil_trait_df = achillea_millefolium_df[columns_of_interest]\n",
    "tri_pra_trait_df = trifolium_pratense_df[columns_of_interest]\n",
    "\n",
    "dac_glo_trait_df[:5]"
   ]
  },
  {
   "cell_type": "code",
   "execution_count": 41,
   "id": "b86f3524",
   "metadata": {},
   "outputs": [],
   "source": [
    "#just wanted to check that they are all there\n",
    "# unique = list(dac_glo_trait_df['TraitName'].unique())\n",
    "# print(sorted(unique))\n"
   ]
  }
 ],
 "metadata": {
  "kernelspec": {
   "display_name": ".venv",
   "language": "python",
   "name": "python3"
  },
  "language_info": {
   "codemirror_mode": {
    "name": "ipython",
    "version": 3
   },
   "file_extension": ".py",
   "mimetype": "text/x-python",
   "name": "python",
   "nbconvert_exporter": "python",
   "pygments_lexer": "ipython3",
   "version": "3.12.2"
  }
 },
 "nbformat": 4,
 "nbformat_minor": 5
}
